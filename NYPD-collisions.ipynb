{
 "cells": [
  {
   "cell_type": "markdown",
   "metadata": {},
   "source": [
    "# Collision Safety in NYC\n",
    "\n",
    "This analysis of traffic collisions in New York City focuses on factors that contribute to the likelihood of being killed or injured (hereafter referred to as a casualty) in an accident during the year of 2018. Specifically, we ask during what time of day an accident is most likely to cause a casualty, and what types of vehicles are associated with high casualty rates. This information will help the city to understand factors driving traffic-related casualties, and guide decision to make NYC's streets safer.\n",
    "\n",
    "This analysis consists of four parts:\n",
    "1. The first part consists of data pre-processing and exploratory analysis.\n",
    "2. The second part addresses the question of what time of day casualty rates are highest and lowest for collisions in NYC in 2018.\n",
    "3. The third part addresses the question of which vehicle types are most and least likely to cause a casualty when involved in an collision.\n",
    "4. Finally, the fourth part summarizes the main conclusions and offers recommendations.\n",
    "\n",
    "This analysis is based on the NYPD Motor Vehicle Collisions dataset available here: https://data.cityofnewyork.us/Public-Safety/NYPD-Motor-Vehicle-Collisions/h9gi-nx95"
   ]
  },
  {
   "cell_type": "markdown",
   "metadata": {},
   "source": [
    "## Import the data and libraries"
   ]
  },
  {
   "cell_type": "code",
   "execution_count": 82,
   "metadata": {},
   "outputs": [],
   "source": [
    "setwd(\"c:/Users/Admin/git/NYCC\")\n",
    "\n",
    "library(suncalc) #this is used to determine whether a time of day is night, dawn, daytime, or dusk\n",
    "\n",
    "#this library allows us to adjust the size of the plots in Jupyter Notebook\n",
    "library(repr)\n",
    "#this function will make the size of the plots smaller\n",
    "options(repr.plot.width=8, repr.plot.height=4)"
   ]
  },
  {
   "cell_type": "code",
   "execution_count": 83,
   "metadata": {},
   "outputs": [],
   "source": [
    "#read in the data\n",
    "collisions.df <- read.csv(\"./data/NYPD-collisions/NYPD_Motor_Vehicle_Collisions.csv\")"
   ]
  },
  {
   "cell_type": "markdown",
   "metadata": {},
   "source": [
    "## Exploratory Analysis and Pre-Processing"
   ]
  },
  {
   "cell_type": "markdown",
   "metadata": {},
   "source": [
    "### Look at the structure of the dataset\n",
    "\n",
    "First, let's look at top and bottom rows of the data to make sure it was imported properly and get an idea of how it's formatted."
   ]
  },
  {
   "cell_type": "code",
   "execution_count": 84,
   "metadata": {},
   "outputs": [
    {
     "data": {
      "text/html": [
       "<table>\n",
       "<thead><tr><th scope=col>DATE</th><th scope=col>TIME</th><th scope=col>BOROUGH</th><th scope=col>ZIP.CODE</th><th scope=col>LATITUDE</th><th scope=col>LONGITUDE</th><th scope=col>LOCATION</th><th scope=col>ON.STREET.NAME</th><th scope=col>CROSS.STREET.NAME</th><th scope=col>OFF.STREET.NAME</th><th scope=col>...</th><th scope=col>CONTRIBUTING.FACTOR.VEHICLE.2</th><th scope=col>CONTRIBUTING.FACTOR.VEHICLE.3</th><th scope=col>CONTRIBUTING.FACTOR.VEHICLE.4</th><th scope=col>CONTRIBUTING.FACTOR.VEHICLE.5</th><th scope=col>UNIQUE.KEY</th><th scope=col>VEHICLE.TYPE.CODE.1</th><th scope=col>VEHICLE.TYPE.CODE.2</th><th scope=col>VEHICLE.TYPE.CODE.3</th><th scope=col>VEHICLE.TYPE.CODE.4</th><th scope=col>VEHICLE.TYPE.CODE.5</th></tr></thead>\n",
       "<tbody>\n",
       "\t<tr><td>04/07/2019                              </td><td>0:00                                    </td><td>BROOKLYN                                </td><td>11221                                   </td><td>40.68569                                </td><td>-73.93559                               </td><td>(40.68569, -73.93559)                   </td><td>LEWIS AVENUE                            </td><td>PUTNAM AVENUE                           </td><td>                                        </td><td>...                                     </td><td>Unspecified                             </td><td>                                        </td><td>                                        </td><td>                                        </td><td>4110071                                 </td><td>Sedan                                   </td><td>Taxi                                    </td><td>                                        </td><td>                                        </td><td>                                        </td></tr>\n",
       "\t<tr><td>04/07/2019                              </td><td>0:00                                    </td><td>BROOKLYN                                </td><td>11225                                   </td><td>40.66312                                </td><td>-73.96244                               </td><td>(40.663124, -73.96244)                  </td><td>FLATBUSH AVENUE                         </td><td>EMPIRE BOULEVARD                        </td><td>                                        </td><td>...                                     </td><td>Unspecified                             </td><td>                                        </td><td>                                        </td><td>                                        </td><td>4110921                                 </td><td>Sedan                                   </td><td>Taxi                                    </td><td>                                        </td><td>                                        </td><td>                                        </td></tr>\n",
       "\t<tr><td>04/07/2019                              </td><td>0:00                                    </td><td>STATEN ISLAND                           </td><td>10312                                   </td><td>40.55738                                </td><td>-74.18158                               </td><td>(40.557377, -74.18158)                  </td><td>                                        </td><td>                                        </td><td>22        ERIKA LOOP                    </td><td>...                                     </td><td>Unspecified                             </td><td>                                        </td><td>                                        </td><td>                                        </td><td>4110530                                 </td><td>Sedan                                   </td><td>                                        </td><td>                                        </td><td>                                        </td><td>                                        </td></tr>\n",
       "\t<tr><td>04/07/2019                              </td><td>0:00                                    </td><td>                                        </td><td>   NA                                   </td><td>      NA                                </td><td>       NA                               </td><td>                                        </td><td>BELT PARKWAY                            </td><td>                                        </td><td>                                        </td><td>...                                     </td><td>Unspecified                             </td><td>                                        </td><td>                                        </td><td>                                        </td><td>4111667                                 </td><td>Sedan                                   </td><td>                                        </td><td>                                        </td><td>                                        </td><td>                                        </td></tr>\n",
       "\t<tr><td>04/07/2019                              </td><td>0:00                                    </td><td>                                        </td><td>   NA                                   </td><td>40.72247                                </td><td>-73.98714                               </td><td>(40.72247, -73.987144)                  </td><td>EAST HOUSTON STREET                     </td><td>                                        </td><td>                                        </td><td>...                                     </td><td>Unspecified                             </td><td>Unspecified                             </td><td>                                        </td><td>                                        </td><td>4110226                                 </td><td>Sedan                                   </td><td>Sedan                                   </td><td>Station Wagon/Sport Utility Vehicle     </td><td>                                        </td><td>                                        </td></tr>\n",
       "</tbody>\n",
       "</table>\n"
      ],
      "text/latex": [
       "\\begin{tabular}{r|lllllllllllllllllllllllllllll}\n",
       " DATE & TIME & BOROUGH & ZIP.CODE & LATITUDE & LONGITUDE & LOCATION & ON.STREET.NAME & CROSS.STREET.NAME & OFF.STREET.NAME & ... & CONTRIBUTING.FACTOR.VEHICLE.2 & CONTRIBUTING.FACTOR.VEHICLE.3 & CONTRIBUTING.FACTOR.VEHICLE.4 & CONTRIBUTING.FACTOR.VEHICLE.5 & UNIQUE.KEY & VEHICLE.TYPE.CODE.1 & VEHICLE.TYPE.CODE.2 & VEHICLE.TYPE.CODE.3 & VEHICLE.TYPE.CODE.4 & VEHICLE.TYPE.CODE.5\\\\\n",
       "\\hline\n",
       "\t 04/07/2019                               & 0:00                                     & BROOKLYN                                 & 11221                                    & 40.68569                                 & -73.93559                                & (40.68569, -73.93559)                    & LEWIS AVENUE                             & PUTNAM AVENUE                            &                                          & ...                                      & Unspecified                              &                                          &                                          &                                          & 4110071                                  & Sedan                                    & Taxi                                     &                                          &                                          &                                         \\\\\n",
       "\t 04/07/2019                               & 0:00                                     & BROOKLYN                                 & 11225                                    & 40.66312                                 & -73.96244                                & (40.663124, -73.96244)                   & FLATBUSH AVENUE                          & EMPIRE BOULEVARD                         &                                          & ...                                      & Unspecified                              &                                          &                                          &                                          & 4110921                                  & Sedan                                    & Taxi                                     &                                          &                                          &                                         \\\\\n",
       "\t 04/07/2019                               & 0:00                                     & STATEN ISLAND                            & 10312                                    & 40.55738                                 & -74.18158                                & (40.557377, -74.18158)                   &                                          &                                          & 22        ERIKA LOOP                     & ...                                      & Unspecified                              &                                          &                                          &                                          & 4110530                                  & Sedan                                    &                                          &                                          &                                          &                                         \\\\\n",
       "\t 04/07/2019                               & 0:00                                     &                                          &    NA                                    &       NA                                 &        NA                                &                                          & BELT PARKWAY                             &                                          &                                          & ...                                      & Unspecified                              &                                          &                                          &                                          & 4111667                                  & Sedan                                    &                                          &                                          &                                          &                                         \\\\\n",
       "\t 04/07/2019                               & 0:00                                     &                                          &    NA                                    & 40.72247                                 & -73.98714                                & (40.72247, -73.987144)                   & EAST HOUSTON STREET                      &                                          &                                          & ...                                      & Unspecified                              & Unspecified                              &                                          &                                          & 4110226                                  & Sedan                                    & Sedan                                    & Station Wagon/Sport Utility Vehicle      &                                          &                                         \\\\\n",
       "\\end{tabular}\n"
      ],
      "text/markdown": [
       "\n",
       "DATE | TIME | BOROUGH | ZIP.CODE | LATITUDE | LONGITUDE | LOCATION | ON.STREET.NAME | CROSS.STREET.NAME | OFF.STREET.NAME | ... | CONTRIBUTING.FACTOR.VEHICLE.2 | CONTRIBUTING.FACTOR.VEHICLE.3 | CONTRIBUTING.FACTOR.VEHICLE.4 | CONTRIBUTING.FACTOR.VEHICLE.5 | UNIQUE.KEY | VEHICLE.TYPE.CODE.1 | VEHICLE.TYPE.CODE.2 | VEHICLE.TYPE.CODE.3 | VEHICLE.TYPE.CODE.4 | VEHICLE.TYPE.CODE.5 | \n",
       "|---|---|---|---|---|\n",
       "| 04/07/2019                               | 0:00                                     | BROOKLYN                                 | 11221                                    | 40.68569                                 | -73.93559                                | (40.68569, -73.93559)                    | LEWIS AVENUE                             | PUTNAM AVENUE                            |                                          | ...                                      | Unspecified                              |                                          |                                          |                                          | 4110071                                  | Sedan                                    | Taxi                                     |                                          |                                          |                                          | \n",
       "| 04/07/2019                               | 0:00                                     | BROOKLYN                                 | 11225                                    | 40.66312                                 | -73.96244                                | (40.663124, -73.96244)                   | FLATBUSH AVENUE                          | EMPIRE BOULEVARD                         |                                          | ...                                      | Unspecified                              |                                          |                                          |                                          | 4110921                                  | Sedan                                    | Taxi                                     |                                          |                                          |                                          | \n",
       "| 04/07/2019                               | 0:00                                     | STATEN ISLAND                            | 10312                                    | 40.55738                                 | -74.18158                                | (40.557377, -74.18158)                   |                                          |                                          | 22        ERIKA LOOP                     | ...                                      | Unspecified                              |                                          |                                          |                                          | 4110530                                  | Sedan                                    |                                          |                                          |                                          |                                          | \n",
       "| 04/07/2019                               | 0:00                                     |                                          |    NA                                    |       NA                                 |        NA                                |                                          | BELT PARKWAY                             |                                          |                                          | ...                                      | Unspecified                              |                                          |                                          |                                          | 4111667                                  | Sedan                                    |                                          |                                          |                                          |                                          | \n",
       "| 04/07/2019                               | 0:00                                     |                                          |    NA                                    | 40.72247                                 | -73.98714                                | (40.72247, -73.987144)                   | EAST HOUSTON STREET                      |                                          |                                          | ...                                      | Unspecified                              | Unspecified                              |                                          |                                          | 4110226                                  | Sedan                                    | Sedan                                    | Station Wagon/Sport Utility Vehicle      |                                          |                                          | \n",
       "\n",
       "\n"
      ],
      "text/plain": [
       "  DATE       TIME BOROUGH       ZIP.CODE LATITUDE LONGITUDE\n",
       "1 04/07/2019 0:00 BROOKLYN      11221    40.68569 -73.93559\n",
       "2 04/07/2019 0:00 BROOKLYN      11225    40.66312 -73.96244\n",
       "3 04/07/2019 0:00 STATEN ISLAND 10312    40.55738 -74.18158\n",
       "4 04/07/2019 0:00                  NA          NA        NA\n",
       "5 04/07/2019 0:00                  NA    40.72247 -73.98714\n",
       "  LOCATION               ON.STREET.NAME                   CROSS.STREET.NAME\n",
       "1 (40.68569, -73.93559)  LEWIS AVENUE                     PUTNAM AVENUE    \n",
       "2 (40.663124, -73.96244) FLATBUSH AVENUE                  EMPIRE BOULEVARD \n",
       "3 (40.557377, -74.18158)                                                   \n",
       "4                        BELT PARKWAY                                      \n",
       "5 (40.72247, -73.987144) EAST HOUSTON STREET                               \n",
       "  OFF.STREET.NAME                          ... CONTRIBUTING.FACTOR.VEHICLE.2\n",
       "1                                          ... Unspecified                  \n",
       "2                                          ... Unspecified                  \n",
       "3 22        ERIKA LOOP                     ... Unspecified                  \n",
       "4                                          ... Unspecified                  \n",
       "5                                          ... Unspecified                  \n",
       "  CONTRIBUTING.FACTOR.VEHICLE.3 CONTRIBUTING.FACTOR.VEHICLE.4\n",
       "1                                                            \n",
       "2                                                            \n",
       "3                                                            \n",
       "4                                                            \n",
       "5 Unspecified                                                \n",
       "  CONTRIBUTING.FACTOR.VEHICLE.5 UNIQUE.KEY VEHICLE.TYPE.CODE.1\n",
       "1                               4110071    Sedan              \n",
       "2                               4110921    Sedan              \n",
       "3                               4110530    Sedan              \n",
       "4                               4111667    Sedan              \n",
       "5                               4110226    Sedan              \n",
       "  VEHICLE.TYPE.CODE.2 VEHICLE.TYPE.CODE.3                 VEHICLE.TYPE.CODE.4\n",
       "1 Taxi                                                                       \n",
       "2 Taxi                                                                       \n",
       "3                                                                            \n",
       "4                                                                            \n",
       "5 Sedan               Station Wagon/Sport Utility Vehicle                    \n",
       "  VEHICLE.TYPE.CODE.5\n",
       "1                    \n",
       "2                    \n",
       "3                    \n",
       "4                    \n",
       "5                    "
      ]
     },
     "metadata": {},
     "output_type": "display_data"
    },
    {
     "data": {
      "text/html": [
       "<table>\n",
       "<thead><tr><th></th><th scope=col>DATE</th><th scope=col>TIME</th><th scope=col>BOROUGH</th><th scope=col>ZIP.CODE</th><th scope=col>LATITUDE</th><th scope=col>LONGITUDE</th><th scope=col>LOCATION</th><th scope=col>ON.STREET.NAME</th><th scope=col>CROSS.STREET.NAME</th><th scope=col>OFF.STREET.NAME</th><th scope=col>...</th><th scope=col>CONTRIBUTING.FACTOR.VEHICLE.2</th><th scope=col>CONTRIBUTING.FACTOR.VEHICLE.3</th><th scope=col>CONTRIBUTING.FACTOR.VEHICLE.4</th><th scope=col>CONTRIBUTING.FACTOR.VEHICLE.5</th><th scope=col>UNIQUE.KEY</th><th scope=col>VEHICLE.TYPE.CODE.1</th><th scope=col>VEHICLE.TYPE.CODE.2</th><th scope=col>VEHICLE.TYPE.CODE.3</th><th scope=col>VEHICLE.TYPE.CODE.4</th><th scope=col>VEHICLE.TYPE.CODE.5</th></tr></thead>\n",
       "<tbody>\n",
       "\t<tr><th scope=row>1474740</th><td>07/01/2012                      </td><td>9:45                            </td><td>                                </td><td>   NA                           </td><td>      NA                        </td><td>       NA                       </td><td>                                </td><td>                                </td><td>                                </td><td>                                </td><td>...                             </td><td>Unspecified                     </td><td>                                </td><td>                                </td><td>                                </td><td>2896726                         </td><td>PASSENGER VEHICLE               </td><td>UNKNOWN                         </td><td>                                </td><td>                                </td><td>                                </td></tr>\n",
       "\t<tr><th scope=row>1474741</th><td>07/01/2012                      </td><td>9:50                            </td><td>MANHATTAN                       </td><td>10019                           </td><td>40.76678                        </td><td>-73.99676                       </td><td>(40.7667789, -73.9967618)       </td><td>WEST SIDE HIGHWAY               </td><td>WEST 50 STREET                  </td><td>                                </td><td>...                             </td><td>Unspecified                     </td><td>                                </td><td>                                </td><td>                                </td><td>  37635                         </td><td>VAN                             </td><td>SPORT UTILITY / STATION WAGON   </td><td>                                </td><td>                                </td><td>                                </td></tr>\n",
       "\t<tr><th scope=row>1474742</th><td>07/01/2012                      </td><td>9:50                            </td><td>QUEENS                          </td><td>11001                           </td><td>40.73624                        </td><td>-73.70297                       </td><td>(40.7362448, -73.7029656)       </td><td>265 STREET                      </td><td>85 AVENUE                       </td><td>                                </td><td>...                             </td><td>Unspecified                     </td><td>                                </td><td>                                </td><td>                                </td><td> 219395                         </td><td>PASSENGER VEHICLE               </td><td>SPORT UTILITY / STATION WAGON   </td><td>                                </td><td>                                </td><td>                                </td></tr>\n",
       "\t<tr><th scope=row>1474743</th><td>07/01/2012                      </td><td>9:57                            </td><td>MANHATTAN                       </td><td>10065                           </td><td>40.76524                        </td><td>-73.95787                       </td><td>(40.7652424, -73.9578679)       </td><td>1 AVENUE                        </td><td>EAST 68 STREET                  </td><td>                                </td><td>...                             </td><td>Other Vehicular                 </td><td>                                </td><td>                                </td><td>                                </td><td>  44907                         </td><td>PASSENGER VEHICLE               </td><td>TAXI                            </td><td>                                </td><td>                                </td><td>                                </td></tr>\n",
       "\t<tr><th scope=row>1474744</th><td>07/01/2012                      </td><td>9:59                            </td><td>BRONX                           </td><td>10452                           </td><td>40.83540                        </td><td>-73.92030                       </td><td>(40.835397, -73.920305)         </td><td>EAST 167 STREET                 </td><td>GERARD AVENUE                   </td><td>                                </td><td>...                             </td><td>Unspecified                     </td><td>                                </td><td>                                </td><td>                                </td><td>  85154                         </td><td>PASSENGER VEHICLE               </td><td>SPORT UTILITY / STATION WAGON   </td><td>                                </td><td>                                </td><td>                                </td></tr>\n",
       "</tbody>\n",
       "</table>\n"
      ],
      "text/latex": [
       "\\begin{tabular}{r|lllllllllllllllllllllllllllll}\n",
       "  & DATE & TIME & BOROUGH & ZIP.CODE & LATITUDE & LONGITUDE & LOCATION & ON.STREET.NAME & CROSS.STREET.NAME & OFF.STREET.NAME & ... & CONTRIBUTING.FACTOR.VEHICLE.2 & CONTRIBUTING.FACTOR.VEHICLE.3 & CONTRIBUTING.FACTOR.VEHICLE.4 & CONTRIBUTING.FACTOR.VEHICLE.5 & UNIQUE.KEY & VEHICLE.TYPE.CODE.1 & VEHICLE.TYPE.CODE.2 & VEHICLE.TYPE.CODE.3 & VEHICLE.TYPE.CODE.4 & VEHICLE.TYPE.CODE.5\\\\\n",
       "\\hline\n",
       "\t1474740 & 07/01/2012                       & 9:45                             &                                  &    NA                            &       NA                         &        NA                        &                                  &                                  &                                  &                                  & ...                              & Unspecified                      &                                  &                                  &                                  & 2896726                          & PASSENGER VEHICLE                & UNKNOWN                          &                                  &                                  &                                 \\\\\n",
       "\t1474741 & 07/01/2012                       & 9:50                             & MANHATTAN                        & 10019                            & 40.76678                         & -73.99676                        & (40.7667789, -73.9967618)        & WEST SIDE HIGHWAY                & WEST 50 STREET                   &                                  & ...                              & Unspecified                      &                                  &                                  &                                  &   37635                          & VAN                              & SPORT UTILITY / STATION WAGON    &                                  &                                  &                                 \\\\\n",
       "\t1474742 & 07/01/2012                       & 9:50                             & QUEENS                           & 11001                            & 40.73624                         & -73.70297                        & (40.7362448, -73.7029656)        & 265 STREET                       & 85 AVENUE                        &                                  & ...                              & Unspecified                      &                                  &                                  &                                  &  219395                          & PASSENGER VEHICLE                & SPORT UTILITY / STATION WAGON    &                                  &                                  &                                 \\\\\n",
       "\t1474743 & 07/01/2012                       & 9:57                             & MANHATTAN                        & 10065                            & 40.76524                         & -73.95787                        & (40.7652424, -73.9578679)        & 1 AVENUE                         & EAST 68 STREET                   &                                  & ...                              & Other Vehicular                  &                                  &                                  &                                  &   44907                          & PASSENGER VEHICLE                & TAXI                             &                                  &                                  &                                 \\\\\n",
       "\t1474744 & 07/01/2012                       & 9:59                             & BRONX                            & 10452                            & 40.83540                         & -73.92030                        & (40.835397, -73.920305)          & EAST 167 STREET                  & GERARD AVENUE                    &                                  & ...                              & Unspecified                      &                                  &                                  &                                  &   85154                          & PASSENGER VEHICLE                & SPORT UTILITY / STATION WAGON    &                                  &                                  &                                 \\\\\n",
       "\\end{tabular}\n"
      ],
      "text/markdown": [
       "\n",
       "| <!--/--> | DATE | TIME | BOROUGH | ZIP.CODE | LATITUDE | LONGITUDE | LOCATION | ON.STREET.NAME | CROSS.STREET.NAME | OFF.STREET.NAME | ... | CONTRIBUTING.FACTOR.VEHICLE.2 | CONTRIBUTING.FACTOR.VEHICLE.3 | CONTRIBUTING.FACTOR.VEHICLE.4 | CONTRIBUTING.FACTOR.VEHICLE.5 | UNIQUE.KEY | VEHICLE.TYPE.CODE.1 | VEHICLE.TYPE.CODE.2 | VEHICLE.TYPE.CODE.3 | VEHICLE.TYPE.CODE.4 | VEHICLE.TYPE.CODE.5 | \n",
       "|---|---|---|---|---|\n",
       "| 1474740 | 07/01/2012                       | 9:45                             |                                  |    NA                            |       NA                         |        NA                        |                                  |                                  |                                  |                                  | ...                              | Unspecified                      |                                  |                                  |                                  | 2896726                          | PASSENGER VEHICLE                | UNKNOWN                          |                                  |                                  |                                  | \n",
       "| 1474741 | 07/01/2012                       | 9:50                             | MANHATTAN                        | 10019                            | 40.76678                         | -73.99676                        | (40.7667789, -73.9967618)        | WEST SIDE HIGHWAY                | WEST 50 STREET                   |                                  | ...                              | Unspecified                      |                                  |                                  |                                  |   37635                          | VAN                              | SPORT UTILITY / STATION WAGON    |                                  |                                  |                                  | \n",
       "| 1474742 | 07/01/2012                       | 9:50                             | QUEENS                           | 11001                            | 40.73624                         | -73.70297                        | (40.7362448, -73.7029656)        | 265 STREET                       | 85 AVENUE                        |                                  | ...                              | Unspecified                      |                                  |                                  |                                  |  219395                          | PASSENGER VEHICLE                | SPORT UTILITY / STATION WAGON    |                                  |                                  |                                  | \n",
       "| 1474743 | 07/01/2012                       | 9:57                             | MANHATTAN                        | 10065                            | 40.76524                         | -73.95787                        | (40.7652424, -73.9578679)        | 1 AVENUE                         | EAST 68 STREET                   |                                  | ...                              | Other Vehicular                  |                                  |                                  |                                  |   44907                          | PASSENGER VEHICLE                | TAXI                             |                                  |                                  |                                  | \n",
       "| 1474744 | 07/01/2012                       | 9:59                             | BRONX                            | 10452                            | 40.83540                         | -73.92030                        | (40.835397, -73.920305)          | EAST 167 STREET                  | GERARD AVENUE                    |                                  | ...                              | Unspecified                      |                                  |                                  |                                  |   85154                          | PASSENGER VEHICLE                | SPORT UTILITY / STATION WAGON    |                                  |                                  |                                  | \n",
       "\n",
       "\n"
      ],
      "text/plain": [
       "        DATE       TIME BOROUGH   ZIP.CODE LATITUDE LONGITUDE\n",
       "1474740 07/01/2012 9:45              NA          NA        NA\n",
       "1474741 07/01/2012 9:50 MANHATTAN 10019    40.76678 -73.99676\n",
       "1474742 07/01/2012 9:50 QUEENS    11001    40.73624 -73.70297\n",
       "1474743 07/01/2012 9:57 MANHATTAN 10065    40.76524 -73.95787\n",
       "1474744 07/01/2012 9:59 BRONX     10452    40.83540 -73.92030\n",
       "        LOCATION                  ON.STREET.NAME                  \n",
       "1474740                                                           \n",
       "1474741 (40.7667789, -73.9967618) WEST SIDE HIGHWAY               \n",
       "1474742 (40.7362448, -73.7029656) 265 STREET                      \n",
       "1474743 (40.7652424, -73.9578679) 1 AVENUE                        \n",
       "1474744 (40.835397, -73.920305)   EAST 167 STREET                 \n",
       "        CROSS.STREET.NAME                OFF.STREET.NAME ...\n",
       "1474740                                                  ...\n",
       "1474741 WEST 50 STREET                                   ...\n",
       "1474742 85 AVENUE                                        ...\n",
       "1474743 EAST 68 STREET                                   ...\n",
       "1474744 GERARD AVENUE                                    ...\n",
       "        CONTRIBUTING.FACTOR.VEHICLE.2 CONTRIBUTING.FACTOR.VEHICLE.3\n",
       "1474740 Unspecified                                                \n",
       "1474741 Unspecified                                                \n",
       "1474742 Unspecified                                                \n",
       "1474743 Other Vehicular                                            \n",
       "1474744 Unspecified                                                \n",
       "        CONTRIBUTING.FACTOR.VEHICLE.4 CONTRIBUTING.FACTOR.VEHICLE.5 UNIQUE.KEY\n",
       "1474740                                                             2896726   \n",
       "1474741                                                               37635   \n",
       "1474742                                                              219395   \n",
       "1474743                                                               44907   \n",
       "1474744                                                               85154   \n",
       "        VEHICLE.TYPE.CODE.1 VEHICLE.TYPE.CODE.2           VEHICLE.TYPE.CODE.3\n",
       "1474740 PASSENGER VEHICLE   UNKNOWN                                          \n",
       "1474741 VAN                 SPORT UTILITY / STATION WAGON                    \n",
       "1474742 PASSENGER VEHICLE   SPORT UTILITY / STATION WAGON                    \n",
       "1474743 PASSENGER VEHICLE   TAXI                                             \n",
       "1474744 PASSENGER VEHICLE   SPORT UTILITY / STATION WAGON                    \n",
       "        VEHICLE.TYPE.CODE.4 VEHICLE.TYPE.CODE.5\n",
       "1474740                                        \n",
       "1474741                                        \n",
       "1474742                                        \n",
       "1474743                                        \n",
       "1474744                                        "
      ]
     },
     "metadata": {},
     "output_type": "display_data"
    }
   ],
   "source": [
    "head(collisions.df, 5) #display first 5 rows of the data\n",
    "tail(collisions.df, 5) #display last 5 rows of the data"
   ]
  },
  {
   "cell_type": "markdown",
   "metadata": {},
   "source": [
    "The str() function shows us that we have 231,432 observations, and the varible names and classes of the dataset. The variables of date and time persons injured and killed, the borough the collisions occurred in, and the vehicle type codes will be the most useful to our analysis, so next we will look at them and clean them as needed.\n"
   ]
  },
  {
   "cell_type": "code",
   "execution_count": 85,
   "metadata": {
    "scrolled": true
   },
   "outputs": [
    {
     "name": "stdout",
     "output_type": "stream",
     "text": [
      "'data.frame':\t1474744 obs. of  29 variables:\n",
      " $ DATE                         : Factor w/ 2472 levels \"01/01/2013\",\"01/01/2014\",..: 680 680 680 680 680 680 680 680 680 680 ...\n",
      " $ TIME                         : Factor w/ 1440 levels \"0:00\",\"0:01\",..: 1 1 1 1 1 1 1 1 1 4 ...\n",
      " $ BOROUGH                      : Factor w/ 6 levels \"\",\"BRONX\",\"BROOKLYN\",..: 3 3 6 1 1 1 1 1 1 3 ...\n",
      " $ ZIP.CODE                     : int  11221 11225 10312 NA NA NA NA NA NA 11213 ...\n",
      " $ LATITUDE                     : num  40.7 40.7 40.6 NA 40.7 ...\n",
      " $ LONGITUDE                    : num  -73.9 -74 -74.2 NA -74 ...\n",
      " $ LOCATION                     : Factor w/ 195274 levels \"\",\"(0.0, 0.0)\",..: 73122 51661 3789 1 108796 169572 1 136902 26615 62352 ...\n",
      " $ ON.STREET.NAME               : Factor w/ 11173 levels \"\",\"\\177estfarms road                  \",..: 6550 4933 1 2338 4458 10547 10934 4839 5253 1 ...\n",
      " $ CROSS.STREET.NAME            : Factor w/ 17556 levels \"\",\"                                \",..: 13047 7370 1 1 1 1 789 1 14549 1 ...\n",
      " $ OFF.STREET.NAME              : Factor w/ 124643 levels \"\",\"                                        \",..: 1 1 42103 1 1 1 1 1 1 23269 ...\n",
      " $ NUMBER.OF.PERSONS.INJURED    : int  0 0 0 0 0 0 0 1 2 0 ...\n",
      " $ NUMBER.OF.PERSONS.KILLED     : int  0 0 0 0 0 0 0 0 0 0 ...\n",
      " $ NUMBER.OF.PEDESTRIANS.INJURED: int  0 0 0 0 0 0 0 0 0 0 ...\n",
      " $ NUMBER.OF.PEDESTRIANS.KILLED : int  0 0 0 0 0 0 0 0 0 0 ...\n",
      " $ NUMBER.OF.CYCLIST.INJURED    : int  0 0 0 0 0 0 0 0 0 0 ...\n",
      " $ NUMBER.OF.CYCLIST.KILLED     : int  0 0 0 0 0 0 0 0 0 0 ...\n",
      " $ NUMBER.OF.MOTORIST.INJURED   : int  0 0 0 0 0 0 0 1 2 0 ...\n",
      " $ NUMBER.OF.MOTORIST.KILLED    : int  0 0 0 0 0 0 0 0 0 0 ...\n",
      " $ CONTRIBUTING.FACTOR.VEHICLE.1: Factor w/ 62 levels \"\",\"1\",\"80\",\"Accelerator Defective\",..: 54 13 13 56 13 37 56 13 57 13 ...\n",
      " $ CONTRIBUTING.FACTOR.VEHICLE.2: Factor w/ 62 levels \"\",\"1\",\"80\",\"Accelerator Defective\",..: 58 58 58 58 58 13 58 58 1 58 ...\n",
      " $ CONTRIBUTING.FACTOR.VEHICLE.3: Factor w/ 50 levels \"\",\"1\",\"80\",\"Accelerator Defective\",..: 1 1 1 1 49 1 1 1 1 1 ...\n",
      " $ CONTRIBUTING.FACTOR.VEHICLE.4: Factor w/ 40 levels \"\",\"Accelerator Defective\",..: 1 1 1 1 1 1 1 1 1 1 ...\n",
      " $ CONTRIBUTING.FACTOR.VEHICLE.5: Factor w/ 28 levels \"\",\"Aggressive Driving/Road Rage\",..: 1 1 1 1 1 1 1 1 1 1 ...\n",
      " $ UNIQUE.KEY                   : int  4110071 4110921 4110530 4111667 4110226 4111521 4110377 4110146 4110028 4109966 ...\n",
      " $ VEHICLE.TYPE.CODE.1          : Factor w/ 619 levels \"\",\"\\177omm\",\"(ceme\",..: 455 455 455 455 455 455 489 455 455 455 ...\n",
      " $ VEHICLE.TYPE.CODE.2          : Factor w/ 579 levels \"\",\"00\",\"013\",..: 468 468 1 1 429 429 429 452 1 452 ...\n",
      " $ VEHICLE.TYPE.CODE.3          : Factor w/ 121 levels \"\",\"2 dr sedan\",..: 1 1 1 1 87 1 1 1 1 1 ...\n",
      " $ VEHICLE.TYPE.CODE.4          : Factor w/ 69 levels \"\",\"2 dr sedan\",..: 1 1 1 1 1 1 1 1 1 1 ...\n",
      " $ VEHICLE.TYPE.CODE.5          : Factor w/ 45 levels \"\",\"2 dr sedan\",..: 1 1 1 1 1 1 1 1 1 1 ...\n"
     ]
    }
   ],
   "source": [
    "str(collisions.df)"
   ]
  },
  {
   "cell_type": "markdown",
   "metadata": {},
   "source": [
    "#### Pre-process date and time variables, and extract time period of interest"
   ]
  },
  {
   "cell_type": "markdown",
   "metadata": {},
   "source": [
    "Because 2018 is the only period of time we are interested in for this analysis, we will extract the data from this period from the dataset. First we will convert the date and time variables into a format that R understands."
   ]
  },
  {
   "cell_type": "code",
   "execution_count": 86,
   "metadata": {},
   "outputs": [],
   "source": [
    "# format the dates in a way that R understands\n",
    "collisions.df$DATE <- as.Date(collisions.df$DATE, format = '%m/%d/%Y')\n",
    "dT <- paste(as.character(as.Date(collisions.df$DATE, format = '%m/%d/%Y')), as.character(collisions.df$TIME))\n",
    "collisions.df$dateTime <- as.POSIXct(dT, format = \"%Y-%m-%d %H:%M\")"
   ]
  },
  {
   "cell_type": "code",
   "execution_count": 87,
   "metadata": {
    "scrolled": false
   },
   "outputs": [
    {
     "data": {
      "text/html": [
       "<ol class=list-inline>\n",
       "\t<li>231447</li>\n",
       "\t<li>30</li>\n",
       "</ol>\n"
      ],
      "text/latex": [
       "\\begin{enumerate*}\n",
       "\\item 231447\n",
       "\\item 30\n",
       "\\end{enumerate*}\n"
      ],
      "text/markdown": [
       "1. 231447\n",
       "2. 30\n",
       "\n",
       "\n"
      ],
      "text/plain": [
       "[1] 231447     30"
      ]
     },
     "metadata": {},
     "output_type": "display_data"
    },
    {
     "data": {
      "text/plain": [
       "[1] \"2018-01-01 00:00:00 EST\" \"2018-12-31 23:59:00 EST\""
      ]
     },
     "metadata": {},
     "output_type": "display_data"
    }
   ],
   "source": [
    "collisions.df <- collisions.df[as.Date(\"2018-01-01\") <= collisions.df$DATE & collisions.df$DATE < as.Date(\"2019-01-01\"),]\n",
    "\n",
    "dim(collisions.df)\n",
    "range(collisions.df$dateTime)"
   ]
  },
  {
   "cell_type": "markdown",
   "metadata": {},
   "source": [
    "Here we confirm that the trimmed dataset we will be using for the rest of the analysis contains only value between Midnight, January 1st, 2018, and 11:59 pm, December 31st, 2018"
   ]
  },
  {
   "cell_type": "markdown",
   "metadata": {},
   "source": [
    "#### Clean and consolidate vehicle categories\n",
    "Let's see what the most common vehicle type codes are by counting the 50 most common ones in the first vehicle type column (\"VEHICLE.TYPE.CODE.1\")."
   ]
  },
  {
   "cell_type": "code",
   "execution_count": 88,
   "metadata": {
    "scrolled": false
   },
   "outputs": [
    {
     "data": {
      "text/plain": [
       "\n",
       "                              Sedan Station Wagon/Sport Utility Vehicle \n",
       "                              71545                               55277 \n",
       "                  PASSENGER VEHICLE       SPORT UTILITY / STATION WAGON \n",
       "                              35478                               27455 \n",
       "                               Taxi                       Pick-up Truck \n",
       "                               7383                                4803 \n",
       "                               TAXI                           Box Truck \n",
       "                               4305                                3269 \n",
       "                                Bus                       PICK-UP TRUCK \n",
       "                               2349                                2298 \n",
       "                               Bike                                  TK \n",
       "                               2059                                1452 \n",
       "                                                   Tractor Truck Diesel \n",
       "                               1396                                1331 \n",
       "                                 BU                                 Van \n",
       "                               1306                                1076 \n",
       "                         Motorcycle                                  DS \n",
       "                                957                                 544 \n",
       "                        Convertible                                Dump \n",
       "                                516                                 469 \n",
       "                                 VN                                  PK \n",
       "                                433                                 356 \n",
       "                          Ambulance                            Flat Bed \n",
       "                                325                                 284 \n",
       "                            BICYCLE                   Garbage or Refuse \n",
       "                                282                                 277 \n",
       "                               CONV                           Carry All \n",
       "                                230                                 208 \n",
       "                         MOTORCYCLE                                  DP \n",
       "                                203                                 194 \n",
       "             Tractor Truck Gasoline                                  AM \n",
       "                                180                                 153 \n",
       "                Tow Truck / Wrecker                                  FB \n",
       "                                148                                 137 \n",
       "                                 GG                              Tanker \n",
       "                                122                                  95 \n",
       "                                 TR                               AMBUL \n",
       "                                 95                                  93 \n",
       "                        Chassis Cab                                  LL \n",
       "                                 93                                  89 \n",
       "                                 TT                      Concrete Mixer \n",
       "                                 85                                  77 \n",
       "                       Motorscooter                                 VAN \n",
       "                                 73                                  70 \n",
       "                              Moped                                  CB \n",
       "                                 69                                  60 \n",
       "                                van                    Refrigerated Van \n",
       "                                 60                                  58 \n",
       "                          Flat Rack                                  TN \n",
       "                                 51                                  50 "
      ]
     },
     "metadata": {},
     "output_type": "display_data"
    }
   ],
   "source": [
    "#Look at the first most common 50 types in the first column of vehicle types, \"VEHICLE.TYPE.CODE.1\"\n",
    "head(sort(table(collisions.df$VEHICLE.TYPE.CODE.1), decreasing = T), 50)\n"
   ]
  },
  {
   "cell_type": "markdown",
   "metadata": {},
   "source": [
    "An obvious problem is that sometimes the same vehicle type is in the dataset with different capitalization (ie \"Motorcycle\" vs. \"MOTORCYCLE\"). The first thing we can do is convert all the codes to uppercase."
   ]
  },
  {
   "cell_type": "code",
   "execution_count": 89,
   "metadata": {},
   "outputs": [],
   "source": [
    "for(colName in paste(\"VEHICLE.TYPE.CODE.\", 1:5, sep = '')){\n",
    "  collisions.df[[colName]] <- toupper(collisions.df[[colName]])\n",
    "}"
   ]
  },
  {
   "cell_type": "markdown",
   "metadata": {},
   "source": [
    "Now let's look at how many of each vehicle are involved in collisions, accross all 5 columns. This will also confirm that we successfully transformed everything to upper case."
   ]
  },
  {
   "cell_type": "code",
   "execution_count": 90,
   "metadata": {},
   "outputs": [
    {
     "data": {
      "text/plain": [
       "\n",
       "                              SEDAN STATION WAGON/SPORT UTILITY VEHICLE \n",
       "                             131863                              103467 \n",
       "                  PASSENGER VEHICLE       SPORT UTILITY / STATION WAGON \n",
       "                              64069                               50504 \n",
       "                               TAXI                       PICK-UP TRUCK \n",
       "                              21712                               14151 \n",
       "                          BOX TRUCK                                BIKE \n",
       "                               6774                                4854 \n",
       "                                BUS                                  TK \n",
       "                               4567                                3126 \n",
       "               TRACTOR TRUCK DIESEL                                  BU \n",
       "                               2605                                2525 \n",
       "                                VAN                          MOTORCYCLE \n",
       "                               2391                                2083 \n",
       "                            BICYCLE                                  DS \n",
       "                               1370                                1157 \n",
       "                               DUMP                         CONVERTIBLE \n",
       "                                991                                 893 \n",
       "                                 VN                                  PK \n",
       "                                842                                 686 \n",
       "                           FLAT BED                           AMBULANCE \n",
       "                                611                                 536 \n",
       "                  GARBAGE OR REFUSE                                  DP \n",
       "                                536                                 429 \n",
       "                          CARRY ALL                                CONV \n",
       "                                398                                 386 \n",
       "             TRACTOR TRUCK GASOLINE                 TOW TRUCK / WRECKER \n",
       "                                375                                 283 \n",
       "                                 FB                                  AM \n",
       "                                281                                 251 \n",
       "                              AMBUL                                  GG \n",
       "                                238                                 232 \n",
       "                             TANKER                         CHASSIS CAB \n",
       "                                201                                 200 \n",
       "                                 TR                                  LL \n",
       "                                198                                 174 \n",
       "                     CONCRETE MIXER                               MOPED \n",
       "                                157                                 157 \n",
       "                              TRAIL                        MOTORSCOOTER \n",
       "                                151                                 143 \n",
       "                                 TT                    REFRIGERATED VAN \n",
       "                                141                                 119 \n",
       "                                 CB                               TRUCK \n",
       "                                113                                 109 \n",
       "                               FIRE                                  TN \n",
       "                                107                                 107 \n",
       "                          FLAT RACK                           MOTORBIKE \n",
       "                                 99                                  87 \n",
       "                      ARMORED TRUCK                      BEVERAGE TRUCK \n",
       "                                 84                                  82 \n",
       "                               FDNY                              3-DOOR \n",
       "                                 75                                  67 \n",
       "                                 RF                                  AR \n",
       "                                 67                                  52 \n",
       "                          LIFT BOOM                                  CM \n",
       "                                 52                                  50 \n",
       "                                 BR                                  MS \n",
       "                                 49                                  45 \n",
       "                              ELECT                               FORKL \n",
       "                                 43                                  42 \n",
       "                              TRACT                               TOW T \n",
       "                                 40                                  39 \n",
       "                                 3D                             PEDICAB \n",
       "                                 38                                  38 \n",
       "                              SCOOT                                  MD \n",
       "                                 38                                  36 \n",
       "                         SCHOOL BUS                                  FR \n",
       "                                 33                                  32 \n",
       "                              SCHOO                               DELIV \n",
       "                                 32                                  31 \n",
       "                               USPS                       STAKE OR RACK \n",
       "                                 31                                  30 \n",
       "                              BOX T                               COMME \n",
       "                                 29                                  29 \n",
       "                         FIRE TRUCK                                  SP \n",
       "                                 29                                  28 \n",
       "                              FIRET                               UNKNO \n",
       "                                 27                                  27 \n",
       "                              MOTOR               MULTI-WHEELED VEHICLE \n",
       "                                 26                                  24 \n",
       "                                 MB                               SANIT \n",
       "                                 23                                  21 \n",
       "                              UTILI                                 COM \n",
       "                                 21                                  20 \n",
       "                                 LF                                FORK \n",
       "                                 20                                  19 \n",
       "                              POWER                                AMBU \n",
       "                                 19                                  18 \n",
       "                              GARBA                                  ST \n",
       "                                 18                                  18 \n",
       "                               FLAT                               E-BIK \n",
       "                                 17                                  16 \n",
       "                                UNK                                 AMB \n",
       "                                 16                                  14 \n",
       "                               DELV                               FREIG \n",
       "                                 14                                  14 \n",
       "                                TOW                            MINIBIKE \n",
       "                                 14                                  12 \n",
       "         PICKUP WITH MOUNTED CAMPER                                  RV \n",
       "                                 12                                  12 \n",
       "                              STREE                    BULK AGRICULTURE \n",
       "                                 12                                  11 \n",
       "                               MAIL                           OPEN BODY \n",
       "                                 11                                  11 \n",
       "                             PALLET                                UTIL \n",
       "                                 11                                  11 \n",
       "                              MTA B                               PICKU \n",
       "                                 10                                  10 \n",
       "                          TOW TRUCK                         LUNCH WAGON \n",
       "                                 10                                   9 \n",
       "                               P/SH                               POSTA \n",
       "                                  9                                   9 \n",
       "                          SNOW PLOW                                 TRL \n",
       "                                  9                                   9 \n",
       "                              CONST                           MINICYCLE \n",
       "                                  8                                   8 \n",
       "                                 PM                               SPRIN \n",
       "                                  8                                   8 \n",
       "                              US PO                               VAN T \n",
       "                                  8                                   8 \n",
       "                              WHITE                               BACKH \n",
       "                                  8                                   7 \n",
       "                              BOBCA                                FOOD \n",
       "                                  7                                   7 \n",
       "                               FORD                                MACK \n",
       "                                  7                                   7 \n",
       "                                 PL                             SCOOTER \n",
       "                                  7                                   7 \n",
       "                               TRAC                          VAN CAMPER \n",
       "                                  7                                   7 \n",
       "                              YELLO                                  BA \n",
       "                                  7                                   6 \n",
       "                              CARGO                      MOTORIZED HOME \n",
       "                                  6                                   6 \n",
       "                                OMR                               SEMI- \n",
       "                                  6                                   6 \n",
       "                               STAK                                 TRK \n",
       "                                  6                                   6 \n",
       "                              UHAUL                                 BOX \n",
       "                                  6                                   5 \n",
       "                              BULLD                               CRANE \n",
       "                                  5                                   5 \n",
       "                               GOLF                                HINO \n",
       "                                  5                                   5 \n",
       "                             HOPPER                                SELF \n",
       "                                  5                                   5 \n",
       "                                 VC                                BACK \n",
       "                                  5                                   4 \n",
       "                               CMIX                               E BIK \n",
       "                                  4                                   4 \n",
       "                              FLATB                          GLASS RACK \n",
       "                                  4                                   4 \n",
       "                              LIMOU                                  MH \n",
       "                                  4                                   4 \n",
       "                               MINI                               NEW Y \n",
       "                                  4                                   4 \n",
       "                               NYPD                                 PAS \n",
       "                                  4                                   4 \n",
       "                               PICK                               PICK- \n",
       "                                  4                                   4 \n",
       "                               SEMI                                 SPC \n",
       "                                  4                                   4 \n",
       "                               TANK                               TRACK \n",
       "                                  4                                   4 \n",
       "                               TRLR                               U-HAU \n",
       "                                  4                                   4 \n",
       "                       WELL DRILLER                                WORK \n",
       "                                  4                                   4 \n",
       "                              ACCES                                  BK \n",
       "                                  3                                   3 \n",
       "                                CAT                               DUMPS \n",
       "                                  3                                   3 \n",
       "                              EBIKE                               FD TR \n",
       "                                  3                                   3 \n",
       "                              FED E                               FRIEG \n",
       "                                  3                                   3 \n",
       "                              GOVER                                  GR \n",
       "                                  3                                   3 \n",
       "                                 HO                               LIGHT \n",
       "                                  3                                   3 \n",
       "                               LIMO                      LIVESTOCK RACK \n",
       "                                  3                                   3 \n",
       "                                 LW                                  MK \n",
       "                                  3                                   3 \n",
       "                              OIL T                               OMNIB \n",
       "                                  3                                   3 \n",
       "                                 OP                               PASSE \n",
       "                                  3                                   3 \n",
       "                                PSD                                RD/S \n",
       "                                  3                                   3 \n",
       "                              SKATE                               SUBUR \n",
       "                                  3                                   3 \n",
       "                              SWEEP                               UPS T \n",
       "                                  3                                   3 \n",
       "                              WAGON                               18 WH \n",
       "                                  3                                   2 \n",
       "                              BICYC                                BOAT \n",
       "                                  2                                   2 \n",
       "                               BOOM                               BOXTR \n",
       "                                  2                                   2 \n",
       "                                 BS                                 BSD \n",
       "                                  2                                   2 \n",
       "                                 C1                               CATER \n",
       "                                  2                                   2 \n",
       "                              CEMEN                                CITY \n",
       "                                  2                                   2 \n",
       "                                 CO                                COMM \n",
       "                                  2                                   2 \n",
       "                              DIESE                                DIRT \n",
       "                                  2                                   2 \n",
       "                               DSNY                               E COM \n",
       "                                  2                                   2 \n",
       "                              E SCO                               EMS A \n",
       "                                  2                                   2 \n",
       "ENCLOSED BODY - REMOVABLE ENCLOSURE                                FRHT \n",
       "                                  2                                   2 \n",
       "                              FRONT                                GRAY \n",
       "                                  2                                   2 \n",
       "                               HAND                               HORSE \n",
       "                                  2                                   2 \n",
       "                              ICE C                                 LOG \n",
       "                                  2                                   2 \n",
       "                              MECHA                               MOPAD \n",
       "                                  2                                   2 \n",
       "                              MOPET                                  MV \n",
       "                                  2                                   2 \n",
       "                                N/A                               NYC A \n",
       "                                  2                                   2 \n",
       "                              NYC D                               NYC F \n",
       "                                  2                                   2 \n",
       "                                OMT                               OTHER \n",
       "                                  2                                   2 \n",
       "                              PEDIC                                 R/V \n",
       "                                  2                                   2 \n",
       "                              RED T                               REFRI \n",
       "                                  2                                   2 \n",
       "                              RESCU                               SMART \n",
       "                                  2                                   2 \n",
       "                               SUBN                               TANKE \n",
       "                                  2                                   2 \n",
       "                                TLR                               TOWER \n",
       "                                  2                                   2 \n",
       "                              TOWTR                               TRIAL \n",
       "                                  2                                   2 \n",
       "                              UNKOW                               VAN C \n",
       "                                  2                                   2 \n",
       "                              VAN/T                             VANETTE \n",
       "                                  2                                   2 \n",
       "                              VERIZ                                  WD \n",
       "                                  2                                   2 \n",
       "                              WHEEL                               (CEME \n",
       "                                  2                                   1 \n",
       "                                 00                                 013 \n",
       "                                  1                                   1 \n",
       "                                  1                               12 PA \n",
       "                                  1                                   1 \n",
       "                              15 PA                               2- TO \n",
       "                                  1                                   1 \n",
       "                              2 DOO                               2 TON \n",
       "                                  1                                   1 \n",
       "                               2TON                               3 WHE \n",
       "                                  1                                   1 \n",
       "                               3DC-                               4WHEE \n",
       "                                  1                                   1 \n",
       "                                994                               99999 \n",
       "                                  1                                   1 \n",
       "                              AMABU                               ANBUL \n",
       "                                  1                                   1 \n",
       "                              APORT                               APPOR \n",
       "                                  1                                   1 \n",
       "                              ARMOR                                ARMY \n",
       "                                  1                                   1 \n",
       "                                AXO                               B5-44 \n",
       "                                  1                                   1 \n",
       "                              BED T                               BLOCK \n",
       "                                  1                                   1 \n",
       "                              BOB C                               BOOML \n",
       "                                  1                                   1 \n",
       "                              BROOM                               BUCKE \n",
       "                                  1                                   1 \n",
       "                              BUDGE                               C0MME \n",
       "                                  1                                   1 \n",
       "                               CAMP                               CAMPE \n",
       "                                  1                                   1 \n",
       "                              CARRI                                CART \n",
       "                                  1                                   1 \n",
       "                               CASE                               CAT 3 \n",
       "                                  1                                   1 \n",
       "                              CAT 9                                CATE \n",
       "                                  1                                   1 \n",
       "                              CB534                               CHART \n",
       "                                  1                                   1 \n",
       "                              CHERR                               CHEVO \n",
       "                                  1                                   1 \n",
       "                              CHEVR                               CHEVY \n",
       "                                  1                                   1 \n",
       "                              CMS-T                               COM T \n",
       "                                  1                                   1 \n",
       "                               COM.                                COMB \n",
       "                                  1                                   1 \n",
       "                              COMER                               COMIX \n",
       "                                  1                                   1 \n",
       "                              COMMM                               COMPA \n",
       "                                  1                                   1 \n",
       "                              CONCR                               COUPE \n",
       "                                  1                                   1 \n",
       "                              COURI                               CUSHM \n",
       "                                  1                                   1 \n",
       "                              DEMA-                                DEPT \n",
       "                                  1                                   1 \n",
       "                              DIG-I                               DOT R \n",
       "                                  1                                   1 \n",
       "                              DUMPT                               DUNBA \n",
       "                                  1                                   1 \n",
       "                              E-350                               E-MOT \n",
       "                                  1                                   1 \n",
       "                              E AMB                               E ONE \n",
       "                                  1                                   1 \n",
       "                              E PAS                               E/BIK \n",
       "                                  1                                   1 \n",
       "                                 E3                                 EC2 \n",
       "                                  1                                   1 \n",
       "                              EMRGN                               EMS H \n",
       "                                  1                                   1 \n",
       "                                 EN                               ENGIN \n",
       "                                  1                                   1 \n",
       "                                EPO                               EXCAV \n",
       "                                  1                                   1 \n",
       "                               F550                                FARM \n",
       "                                  1                                   1 \n",
       "                              FD FI                               FD LA \n",
       "                                  1                                   1 \n",
       "                              FD NY                               FEDER \n",
       "                                  1                                   1 \n",
       "                              FEDEX                               FLEET \n",
       "                                  1                                   1 \n",
       "                              FORK-                               FRE T \n",
       "                                  1                                   1 \n",
       "                               FREE                               G SEM \n",
       "                                  1                                   1 \n",
       "                              G TOW                               GAS S \n",
       "                                  1                                   1 \n",
       "                              GAS T                               GATOR \n",
       "                                  1                                   1 \n",
       "                              GMC V                                  GN \n",
       "                                  1                                   1 \n",
       "                              GOV'T                               GRAIN \n",
       "                                  1                                   1 \n",
       "                               H/WH                               HEAVY \n",
       "                                  1                                   1 \n",
       "                               HELP                               HI-LO \n",
       "                                  1                                   1 \n",
       "                              HIGHL                                HOOK \n",
       "                                  1                                   1 \n",
       "                              HOTDO                               HOUSE \n",
       "                                  1                                   1 \n",
       "                              HWY C                               ICECR \n",
       "                                  1                                   1 \n",
       "                              INTER                               JCB40 \n",
       "                                  1                                   1 \n",
       "                               JEEP                               JLG B \n",
       "                                  1                                   1 \n",
       "                               JOHN                               JOHND \n",
       "                                  1                                   1 \n",
       "                                KEN                               KENWO \n",
       "                                  1                                   1 \n",
       "                                 LG                               LIBER \n",
       "                                  1                                   1 \n",
       "                               LIFT                               LIMO/ \n",
       "                                  1                                   1 \n",
       "                              LIVER                               LOADE \n",
       "                                  1                                   1 \n",
       "                                 LP                               MAN L \n",
       "                                  1                                   1 \n",
       "                               MARK                               MARKE \n",
       "                                  1                                   1 \n",
       "                                 MC                                 MCY \n",
       "                                  1                                   1 \n",
       "                              ME/BE                               MILLI \n",
       "                                  1                                   1 \n",
       "                              MINIV                                MOPD \n",
       "                                  1                                   1 \n",
       "                              MOT S                               MOVIN \n",
       "                                  1                                   1 \n",
       "                                MTA                                  ND \n",
       "                                  1                                   1 \n",
       "                              NISSA                               NS AM \n",
       "                                  1                                   1 \n",
       "                                NYC                               NYC M \n",
       "                                  1                                   1 \n",
       "                              OBJEC                               PASSA \n",
       "                                  1                                   1 \n",
       "                              PAYLO                                  PC \n",
       "                                  1                                   1 \n",
       "                               PLOW                               PORTA \n",
       "                                  1                                   1 \n",
       "                               POST                               POSTO \n",
       "                                  1                                   1 \n",
       "                                 PU                                PUMP \n",
       "                                  1                                   1 \n",
       "                               PUSH                               R/V C \n",
       "                                  1                                   1 \n",
       "                               REFG                                 REP \n",
       "                                  1                                   1 \n",
       "                                RGS                                 RMP \n",
       "                                  1                                   1 \n",
       "                              RMP V                               ROADS \n",
       "                                  1                                   1 \n",
       "                              RYDER                                  SC \n",
       "                                  1                                   1 \n",
       "                                 SE                               SEAGR \n",
       "                                  1                                   1 \n",
       "                              SELF-                                SGWS \n",
       "                                  1                                   1 \n",
       "                              SHCOO                                SNOW \n",
       "                                  1                                   1 \n",
       "                              SPC P                                SPEC \n",
       "                                  1                                   1 \n",
       "                              SUBN/                               SUDAN \n",
       "                                  1                                   1 \n",
       "                                SUV                                 SWT \n",
       "                                  1                                   1 \n",
       "                              TL TR                                TOUR \n",
       "                                  1                                   1 \n",
       "                              TOW-T                               TR/KI \n",
       "                                  1                                   1 \n",
       "                              TRAFF                               TRANS \n",
       "                                  1                                   1 \n",
       "                              TRASH                                 TRT \n",
       "                                  1                                   1 \n",
       "                               U.S.                                UBER \n",
       "                                  1                                   1 \n",
       "                              UHUAL                                 UKN \n",
       "                                  1                                   1 \n",
       "                              ULILI                                UNK, \n",
       "                                  1                                   1 \n",
       "                               UNKN                             UNKNOWN \n",
       "                                  1                                   1 \n",
       "                              US MA                               USPOS \n",
       "                                  1                                   1 \n",
       "                              USPS2                               USPST \n",
       "                                  1                                   1 \n",
       "                               UTLL                                 UTV \n",
       "                                  1                                   1 \n",
       "                              VAN A                               VAN F \n",
       "                                  1                                   1 \n",
       "                              VAN W                               VAN/B \n",
       "                                  1                                   1 \n",
       "                               VAN`                                 VOL \n",
       "                                  1                                   1 \n",
       "                                 VT                                  WC \n",
       "                                  1                                   1 \n",
       "                               WHBL                               WINNE \n",
       "                                  1                                   1 \n",
       "                              WORKH \n",
       "                                  1 "
      ]
     },
     "metadata": {},
     "output_type": "display_data"
    }
   ],
   "source": [
    "allVehType <- unlist(collisions.df[, paste(\"VEHICLE.TYPE.CODE.\", 1:5, sep = '')])\n",
    "collisionsByVehType <- table(allVehType[allVehType != \"\"])\n",
    "sort(collisionsByVehType, decreasing = T)"
   ]
  },
  {
   "cell_type": "markdown",
   "metadata": {},
   "source": [
    "There are many vehicle types that only appear once, or a few times in the entire dataset."
   ]
  },
  {
   "cell_type": "code",
   "execution_count": 91,
   "metadata": {
    "scrolled": true
   },
   "outputs": [
    {
     "data": {
      "text/html": [
       "'Total number of vehicle types: 455'"
      ],
      "text/latex": [
       "'Total number of vehicle types: 455'"
      ],
      "text/markdown": [
       "'Total number of vehicle types: 455'"
      ],
      "text/plain": [
       "[1] \"Total number of vehicle types: 455\""
      ]
     },
     "metadata": {},
     "output_type": "display_data"
    },
    {
     "data": {
      "text/html": [
       "'Number of vehicle types that occur more than 10 times: 139'"
      ],
      "text/latex": [
       "'Number of vehicle types that occur more than 10 times: 139'"
      ],
      "text/markdown": [
       "'Number of vehicle types that occur more than 10 times: 139'"
      ],
      "text/plain": [
       "[1] \"Number of vehicle types that occur more than 10 times: 139\""
      ]
     },
     "metadata": {},
     "output_type": "display_data"
    },
    {
     "data": {
      "text/html": [
       "'Number of vehicle types that occur only once: 204'"
      ],
      "text/latex": [
       "'Number of vehicle types that occur only once: 204'"
      ],
      "text/markdown": [
       "'Number of vehicle types that occur only once: 204'"
      ],
      "text/plain": [
       "[1] \"Number of vehicle types that occur only once: 204\""
      ]
     },
     "metadata": {},
     "output_type": "display_data"
    }
   ],
   "source": [
    "paste(\"Total number of vehicle types:\", length(collisionsByVehType))\n",
    "paste(\"Number of vehicle types that occur more than 10 times:\", length(collisionsByVehType[collisionsByVehType > 5]))\n",
    "paste(\"Number of vehicle types that occur only once:\", length(collisionsByVehType[collisionsByVehType == 1]))"
   ]
  },
  {
   "cell_type": "markdown",
   "metadata": {},
   "source": [
    "Almost half the entries occur only once. Some of these are typos (ie \"VAN', AMABU\"), others are ambiguous or describe the vehicle make or function, not the body type (ie \"JLG B\", \"GOV'T\", \"CHEVY\").\n",
    "\n",
    "After combing through the entries for vehicle types, I came up with the following list to be used to consolidate the obivous vehicle types into a more concise list. For now we will ignore the ambiguous types. For some we are making a best guess (For example, that BU is BUS, BK is BIKE). It would be good to get more clarification on some of the abbreviations that NYPD uses to categorize vehicles when makign their reports."
   ]
  },
  {
   "cell_type": "code",
   "execution_count": 92,
   "metadata": {},
   "outputs": [],
   "source": [
    "#1 clean and consolidate categories\n",
    "vehicle_categories <- list(\n",
    "  PASSENGER_VEHICLE = c(\"2 DR SEDAN\", \"3-DOOR\", \"3D\", \"4 DR SEDAN\", \"4D\", \"4DS\", \"4DSD\", \"4WHEE\", \"COUPE\", \"PAS\", \"PASSE\", \"PASSENGER VEHICLE\"),\n",
    "  WAGON_OR_SUV = c(\"STATION WAGON/SPORT UTILITY VEHICLE\", \"SPORT UTILITY / STATION WAGON\"),\n",
    "  TAXI_OR_LIMO = c(\"TAXI\", \"LIMO\", \"LIMOU\", \"LIVER\", \"LIVERY VEHICLE\"),\n",
    "  CONVERTIBLE = c(\"CONVER\", \"CONV\", \"CONVE\"),\n",
    "  PICKUP_OR_VAN = c(\"PICK\", \"PICK-\", \"PICK-UP TRUCK\", \"PICKU\", \"PICKUP WITH MOUNTED CAMPER\", \"PK\", \"PKUP\", \"REFRIGERATED VAN\", \"VAN\", \"VAN C\", \"VAN CAMPER\", \"VN\"),\n",
    "  AMBULANCE = c(\"AMBULA\", \"AM\", \"AMABU\", \"AMB\", \"AMBU\", \"AMBUL\", \"AMBULANCE\", \"E AMB\"),\n",
    "  BICYCLE = c(\"BICYC\", \"BICYCLE\", \"BIKE\", \"BK\"),\n",
    "  SCOOTER = c(\"SCOO\", \"SCOOT\", \"SCOOTER\"),\n",
    "  PEDICAB = c(\"PEDICAB\", \"PEDIC\"),\n",
    "  PERSONAL_ELECTRIC = c(\"E-BIKE\", \"E- BI\", \"E-BIK\", \"E BIK\", \"E SCO\", \"E/BIK\", \"EBIKE\", \"ELEC.\", \"ELECT\"),\n",
    "  MEDIUM_TRUCK = c(\"BEVERAGE TRUCK\", \"BOX\", \"BOX T\", \"BOX TRUCK\", \"DEL\", \"DELIV\", \"DELV\", \"FLAT\", \"FLAT BED\", \"FLAT RACK\", \"FLATB\", \"UHAUL\", \"UHUAL\", \"U-HAU\", \"TRUCK\", \"ARMOR\", \"ARMORED TRUCK\"),\n",
    "  BUS = c(\"BUS\", \"BU\", \"SCHOO\", \"SCHOOL BUS\"),\n",
    "  COMMERCIAL = c(\"SMALL COM VEH(4 TIRES)\", \"LARGE COM VEH(6 OR MORE TIRES)\", \"COM\", \"COMM\", \"COMME\", \"COM.\"),\n",
    "  LARGE_TRUCK = c(\"CHASSIS CAB\", \"MAC T\", \"MACK\", \"TRAC\", \"TRAC.\", \"TRACK\", \"TRACT\", \"TRACTOR TRUCK DIESEL\", \"TRACTOR TRUCK GASOLINE\", \"TANK\", \"TANKE\", \"TANKER\", \"SEMI\", \"SEMI-\"),\n",
    "  CONSTRUCTION_VEHICLE = c(\"CONCRETE MIXER\", \"CMIX\", \"CEMEN\", \"CONST\", \"CRANE\", \"DUMP\", \"DUMPS\", \"DUMPT\", \"EXCAV\", \"LIFT BOOM\", \"TOW TRUCK / WRECKER\", \"TOWTR\", \"TOW TRUCK\", \"TOW\", \"TOW-T\", \"TOW T\"),\n",
    "  MOTOR_BIKE = c(\"DIRT\", \"DIRTB\", \"MINIBIKE\", \"MINICYCLE\", \"MOPED\", \"MOTORBIKE\", \"MOTORCYCLE\", \"MOTORSCOOTER\"),\n",
    "  FIRE_TRUCK = c(\"FD FI\", \"FDNY\", \"FIRE\", \"FT\", \"FIRE TRUCK\", \"FIRET\"),\n",
    "  GARBAGE_TRUCK = c(\"GARBA\", \"GARBAGE OR REFUSE\", \"SANIT\")\n",
    ")"
   ]
  },
  {
   "cell_type": "markdown",
   "metadata": {},
   "source": [
    "### Pre-processing of borough variables\n",
    "Each borough in the city has unique traffic patterns and road types. For example, Manhattan has mostly streets, avenues, and a few small highways, while more major highways are in the outer borough. Thus is will be important to know whether collision safety patterns are similar or different across boroughs. The next step will be to clean missing values from the borough variable in the dataset."
   ]
  },
  {
   "cell_type": "code",
   "execution_count": 93,
   "metadata": {
    "scrolled": false
   },
   "outputs": [
    {
     "data": {
      "text/html": [
       "'Total Collisions in 2018 = 231447'"
      ],
      "text/latex": [
       "'Total Collisions in 2018 = 231447'"
      ],
      "text/markdown": [
       "'Total Collisions in 2018 = 231447'"
      ],
      "text/plain": [
       "[1] \"Total Collisions in 2018 = 231447\""
      ]
     },
     "metadata": {},
     "output_type": "display_data"
    },
    {
     "data": {
      "text/html": [
       "'Collisions missing BOROUGH info = 82288'"
      ],
      "text/latex": [
       "'Collisions missing BOROUGH info = 82288'"
      ],
      "text/markdown": [
       "'Collisions missing BOROUGH info = 82288'"
      ],
      "text/plain": [
       "[1] \"Collisions missing BOROUGH info = 82288\""
      ]
     },
     "metadata": {},
     "output_type": "display_data"
    }
   ],
   "source": [
    "#look at how many collisions there are in each borough, and what proportion result in death or injury\n",
    "collisions.df$BOROUGH <- as.character(collisions.df$BOROUGH)\n",
    "collisions.df$BOROUGH[collisions.df$BOROUGH == ''] <- NA\n",
    "\n",
    "collisionsPerBorough <- table(collisions.df$BOROUGH)\n",
    "\n",
    "paste(\"Total Collisions in 2018 =\", nrow(collisions.df))\n",
    "paste(\"Collisions missing BOROUGH info =\", sum(is.na(collisions.df$BOROUGH)))"
   ]
  },
  {
   "cell_type": "markdown",
   "metadata": {},
   "source": [
    "There are quite a few cases with missing values for borough, but if we simply ignore them, there are still nearly 150k collisions to analyze, more than enough to draw conclusions from. As an idea for the future, we could improve the dataset by using other location information such as the cross streets and lat/long infor to fill in missing borough information, but this will be a very time-consuming process. For now we will simply remove them."
   ]
  },
  {
   "cell_type": "code",
   "execution_count": 94,
   "metadata": {
    "scrolled": true
   },
   "outputs": [
    {
     "data": {
      "text/html": [
       "0"
      ],
      "text/latex": [
       "0"
      ],
      "text/markdown": [
       "0"
      ],
      "text/plain": [
       "[1] 0"
      ]
     },
     "metadata": {},
     "output_type": "display_data"
    },
    {
     "data": {
      "text/html": [
       "<ol class=list-inline>\n",
       "\t<li>149159</li>\n",
       "\t<li>30</li>\n",
       "</ol>\n"
      ],
      "text/latex": [
       "\\begin{enumerate*}\n",
       "\\item 149159\n",
       "\\item 30\n",
       "\\end{enumerate*}\n"
      ],
      "text/markdown": [
       "1. 149159\n",
       "2. 30\n",
       "\n",
       "\n"
      ],
      "text/plain": [
       "[1] 149159     30"
      ]
     },
     "metadata": {},
     "output_type": "display_data"
    }
   ],
   "source": [
    "collisions.df <- collisions.df[!is.na(collisions.df$BOROUGH),]\n",
    "sum(is.na(collisions.df$BOROUGH))\n",
    "dim(collisions.df)"
   ]
  },
  {
   "cell_type": "markdown",
   "metadata": {},
   "source": [
    "Next let's see if there are a lot of missing data points in NUMBER.OF.PERSONS.INJURED and NUMBER.OF.PERSONS.KILLED"
   ]
  },
  {
   "cell_type": "code",
   "execution_count": 95,
   "metadata": {
    "scrolled": true
   },
   "outputs": [
    {
     "data": {
      "text/html": [
       "4"
      ],
      "text/latex": [
       "4"
      ],
      "text/markdown": [
       "4"
      ],
      "text/plain": [
       "[1] 4"
      ]
     },
     "metadata": {},
     "output_type": "display_data"
    },
    {
     "data": {
      "text/html": [
       "10"
      ],
      "text/latex": [
       "10"
      ],
      "text/markdown": [
       "10"
      ],
      "text/plain": [
       "[1] 10"
      ]
     },
     "metadata": {},
     "output_type": "display_data"
    }
   ],
   "source": [
    "\n",
    "sum(is.na(collisions.df$NUMBER.OF.PERSONS.INJURED))\n",
    "sum(is.na(collisions.df$NUMBER.OF.PERSONS.KILLED))\n"
   ]
  },
  {
   "cell_type": "markdown",
   "metadata": {},
   "source": [
    "Fortunately there are very few missing values, so we can remove these cases without significantly affecting the data"
   ]
  },
  {
   "cell_type": "code",
   "execution_count": 96,
   "metadata": {},
   "outputs": [],
   "source": [
    "collisions.df <- collisions.df[\n",
    "    !(is.na(collisions.df$NUMBER.OF.PERSONS.INJURED) |\n",
    "    is.na(collisions.df$NUMBER.OF.PERSONS.KILLED))\n",
    ",]"
   ]
  },
  {
   "cell_type": "markdown",
   "metadata": {},
   "source": [
    "### Cleaning injury and death variables"
   ]
  },
  {
   "cell_type": "code",
   "execution_count": 97,
   "metadata": {
    "scrolled": true
   },
   "outputs": [
    {
     "data": {
      "text/html": [
       "<ol class=list-inline>\n",
       "\t<li>0</li>\n",
       "\t<li>22</li>\n",
       "</ol>\n"
      ],
      "text/latex": [
       "\\begin{enumerate*}\n",
       "\\item 0\n",
       "\\item 22\n",
       "\\end{enumerate*}\n"
      ],
      "text/markdown": [
       "1. 0\n",
       "2. 22\n",
       "\n",
       "\n"
      ],
      "text/plain": [
       "[1]  0 22"
      ]
     },
     "metadata": {},
     "output_type": "display_data"
    },
    {
     "data": {
      "text/html": [
       "<ol class=list-inline>\n",
       "\t<li>0</li>\n",
       "\t<li>2</li>\n",
       "</ol>\n"
      ],
      "text/latex": [
       "\\begin{enumerate*}\n",
       "\\item 0\n",
       "\\item 2\n",
       "\\end{enumerate*}\n"
      ],
      "text/markdown": [
       "1. 0\n",
       "2. 2\n",
       "\n",
       "\n"
      ],
      "text/plain": [
       "[1] 0 2"
      ]
     },
     "metadata": {},
     "output_type": "display_data"
    }
   ],
   "source": [
    "range(collisions.df$NUMBER.OF.PERSONS.INJURED)\n",
    "range(collisions.df$NUMBER.OF.PERSONS.KILLED)"
   ]
  },
  {
   "cell_type": "markdown",
   "metadata": {},
   "source": [
    "The most injurious collision had 22 injuries, and the most deadly had 2 deaths."
   ]
  },
  {
   "cell_type": "code",
   "execution_count": 98,
   "metadata": {
    "scrolled": false
   },
   "outputs": [
    {
     "data": {
      "text/html": [
       "'Total collisions: 149147'"
      ],
      "text/latex": [
       "'Total collisions: 149147'"
      ],
      "text/markdown": [
       "'Total collisions: 149147'"
      ],
      "text/plain": [
       "[1] \"Total collisions: 149147\""
      ]
     },
     "metadata": {},
     "output_type": "display_data"
    },
    {
     "data": {
      "text/html": [
       "'Injuries per collision'"
      ],
      "text/latex": [
       "'Injuries per collision'"
      ],
      "text/markdown": [
       "'Injuries per collision'"
      ],
      "text/plain": [
       "[1] \"Injuries per collision\""
      ]
     },
     "metadata": {},
     "output_type": "display_data"
    },
    {
     "data": {
      "text/plain": [
       "injured\n",
       "     0      1      2      3      4      5      6      7      8      9     10 \n",
       "121101  22243   3881   1193    431    190     52     29     11      5      3 \n",
       "    11     12     13     17     20     22 \n",
       "     1      2      1      2      1      1 "
      ]
     },
     "metadata": {},
     "output_type": "display_data"
    },
    {
     "data": {
      "text/html": [
       "'Deaths per collision'"
      ],
      "text/latex": [
       "'Deaths per collision'"
      ],
      "text/markdown": [
       "'Deaths per collision'"
      ],
      "text/plain": [
       "[1] \"Deaths per collision\""
      ]
     },
     "metadata": {},
     "output_type": "display_data"
    },
    {
     "data": {
      "text/plain": [
       "killed\n",
       "     0      1      2 \n",
       "149009    137      1 "
      ]
     },
     "metadata": {},
     "output_type": "display_data"
    }
   ],
   "source": [
    "#only 10 collisions had more than 20 injuries, let's look at the distribution of the more typical collisions.\n",
    "paste(\"Total collisions:\", nrow(collisions.df))\n",
    "\n",
    "paste(\"Injuries per collision\")\n",
    "table(injured = collisions.df$NUMBER.OF.PERSONS.INJURED)\n",
    "\n",
    "paste(\"Deaths per collision\")\n",
    "table(killed = collisions.df$NUMBER.OF.PERSONS.KILLED)"
   ]
  },
  {
   "cell_type": "markdown",
   "metadata": {},
   "source": [
    "Of 231k collisions, the majority have no injuries (186k) and no deaths. There were only 224 deadly collisions, and only 3 had more than 1 death. Because the deaths are rare, they will be difficult to analyze statistically. We will combine injuries and deaths into \"casualties\" for this analysis.\n",
    "\n",
    "Moreover, the question we are asking is what are the factors that determine whether an accident will be severe enough to cause an injury or death. The number of people injured or killed depends on what kind of vehicles are involved. For example, a lone driver hitting a stationary object cannot injure anyone but themselves. The same driver making the same decisions could as easily collided with a taxicab full of people, causing more casualties, but for our purposes, these collisions should be regarded as equivalent. Thus, we will consider the casualty rate per collision (e.g. whether or not the collision resulted in any injuries or deaths), not per person (e.g. not how many people are injured or killed)."
   ]
  },
  {
   "cell_type": "markdown",
   "metadata": {},
   "source": [
    "#### Helper function\n",
    "\n",
    "Since we will be combining injuries and deaths for the remainder of the analysis, we will use a helper function instead of rewriting the same code over and over. This helper function takes the dataset, or a subset of it, and returns the proportion of collisions that result in one or more injuries or deaths (casualties). It can take an option to return only pedestrian casualties. Since we will be doing this calculation many times, it simply serves to make the code easier to read and more compact. It could be expanded with additional options and features in the future."
   ]
  },
  {
   "cell_type": "code",
   "execution_count": 99,
   "metadata": {
    "scrolled": false
   },
   "outputs": [
    {
     "data": {
      "text/html": [
       "'Proportion of 2018 crashes that resulted in casualties: 0.188753377540279'"
      ],
      "text/latex": [
       "'Proportion of 2018 crashes that resulted in casualties: 0.188753377540279'"
      ],
      "text/markdown": [
       "'Proportion of 2018 crashes that resulted in casualties: 0.188753377540279'"
      ],
      "text/plain": [
       "[1] \"Proportion of 2018 crashes that resulted in casualties: 0.188753377540279\""
      ]
     },
     "metadata": {},
     "output_type": "display_data"
    },
    {
     "data": {
      "text/html": [
       "'Proportion of 2018 crashes that resulted in casualties of a pedestrian: 0.0533031170590089'"
      ],
      "text/latex": [
       "'Proportion of 2018 crashes that resulted in casualties of a pedestrian: 0.0533031170590089'"
      ],
      "text/markdown": [
       "'Proportion of 2018 crashes that resulted in casualties of a pedestrian: 0.0533031170590089'"
      ],
      "text/plain": [
       "[1] \"Proportion of 2018 crashes that resulted in casualties of a pedestrian: 0.0533031170590089\""
      ]
     },
     "metadata": {},
     "output_type": "display_data"
    }
   ],
   "source": [
    "casualtyProp.f <- function(c.df, type = \"total\"){\n",
    "  if(type == \"ped\"){\n",
    "    prop <- sum((c.df$NUMBER.OF.PEDESTRIANS.INJURED | c.df$NUMBER.OF.PEDESTRIANS.KILLED), na.rm = T)/nrow(c.df)\n",
    "  }else if(type == \"total\"){\n",
    "    prop <- sum((c.df$NUMBER.OF.PERSONS.INJURED | c.df$NUMBER.OF.PERSONS.KILLED), na.rm = T)/nrow(c.df)\n",
    "  }\n",
    "  return(prop)\n",
    "}\n",
    "\n",
    "paste(\"Proportion of 2018 crashes that resulted in casualties:\", casualtyProp.f(collisions.df))\n",
    "paste(\"Proportion of 2018 crashes that resulted in casualties of a pedestrian:\", casualtyProp.f(collisions.df, type = 'ped'))"
   ]
  },
  {
   "cell_type": "markdown",
   "metadata": {},
   "source": [
    "Using our function, we see that approximately 20%, or 1 in 5, collisions results in injury or death, while just under 5%, or 1 in 20, crashes resulted in casualties of a pedestrian."
   ]
  },
  {
   "cell_type": "markdown",
   "metadata": {},
   "source": [
    "# Question 1\n",
    "## In 2018, what were the best and worst times to be driving if collision safety was your only consideration?"
   ]
  },
  {
   "cell_type": "markdown",
   "metadata": {},
   "source": [
    "In asking this question, we want to know whether the likelihood of being injured or killed in a collision changes depending on time of day. We can imagine that during rush-hours there may be higher total number of collisions, because there are more vehicles and people on the streets, but since the traffic speed is low, the collisions tend to be less severe. On the other hand, late at night when there are few cars on the roads and speeds are higher, as are the number of drunk and drowsy drivers, collisions might be more deadly, even though there are fewer collisions overall."
   ]
  },
  {
   "cell_type": "code",
   "execution_count": 100,
   "metadata": {
    "scrolled": false
   },
   "outputs": [
    {
     "data": {
      "image/png": "[encoded data removed]",
      "text/plain": [
       "plot without title"
      ]
     },
     "metadata": {},
     "output_type": "display_data"
    }
   ],
   "source": [
    "par(mai = c(1.5, 1, 0.5, 0.5)) #set figure margins\n",
    "\n",
    "#calculate total collisions per hour \n",
    "collisions_byHour_total <- hist(as.POSIXct(collisions.df$TIME, format = \"%H:%M\"), breaks = \"hours\", plot = F)$counts\n",
    "\n",
    "#calculate total collisions resulting in injury or death per hour\n",
    "collisions_byHour_injurious <- hist(as.POSIXct(collisions.df$TIME[collisions.df$NUMBER.OF.PERSONS.INJURED > 0], format = \"%H:%M\"), breaks = \"hours\", plot = F)$counts\n",
    "collisions_byHour_deadly <- hist(as.POSIXct(collisions.df$TIME[collisions.df$NUMBER.OF.PERSONS.KILLED > 0], format = \"%H:%M\"), breaks = \"hours\", plot = F)$counts\n",
    "\n",
    "#calculate the proportion resulting in casualty (injury OR death) per hour\n",
    "collisionsCasualty_byHour <- (collisions_byHour_injurious + collisions_byHour_deadly)/collisions_byHour_total\n",
    "\n",
    "#make the barplot\n",
    "options(repr.plot.width=4, repr.plot.height=4)\n",
    "\n",
    "ymax <- 0.4 #the range for our y axis\n",
    "bp <- barplot(\n",
    "  rbind(\n",
    "    collisionsCasualty_byHour,\n",
    "    ymax - collisionsCasualty_byHour\n",
    "  ),\n",
    "  ylim = c(0, ymax),\n",
    "  col = c(\"yellow\", \"gray\"),\n",
    "  xlab = \"Time (hours since midnight)\",\n",
    "  ylab = \"Proportion\"\n",
    ")\n",
    "axis(1, labels = 1:24, at = bp, las = 1, cex.axis = 0.8)\n",
    "\n"
   ]
  },
  {
   "cell_type": "markdown",
   "metadata": {},
   "source": [
    "It looks like collisions that occur during the daytime have a lower casualty rate than those that occur at night, with the peak casualty rate at around 3-4 am. The safest time to be in an accident is late morning, between 10 am and 11 am.\n",
    "\n",
    "To take a better look at daytime vs. night time, it will make more sense to categorize accidents relative to sunrise/sunset, including dawn and dusk periods, to see if the quality of daylight/darkness has an effect on casualty rate."
   ]
  },
  {
   "cell_type": "markdown",
   "metadata": {},
   "source": [
    "#### Categorize the time of each accident in the dataset as \"night\", \"dawn\", \"daytime\", or \"dusk\"\n",
    "Dawn and dusk change throughout the year, for example, 7 am in the winter months is still quite dark, whereas in June it is daylight. We will use the \"suncalc\" library to look up the sunrise and sunset times for each accident and then categorize each accident. Then we will plot the casualty rates for each time category."
   ]
  },
  {
   "cell_type": "code",
   "execution_count": 101,
   "metadata": {},
   "outputs": [],
   "source": [
    "phases <- c(\"nauticalDawn\", \"sunrise\", \"sunset\", \"night\")\n",
    "phaseNames <- c(\"night\", \"dawn\", \"daytime\", \"dusk\", \"night\")\n",
    "#NOTE:there is 1 more name than phases because 'night' is both before 'nauticalDawn' and after 'sunset'\n",
    "\n",
    "collisions.list.byDate <- split(collisions.df, collisions.df$DATE)\n",
    "collisions.df <- do.call(rbind, lapply(collisions.list.byDate, function(c.df){\n",
    "  d <- c.df$DATE[[1]]\n",
    "  sunTimes <- getSunlightTimes(date = as.Date(d),\n",
    "    lat = 40.7128, lon = -74.0060, #NYC's lat/lon\n",
    "    keep = phases, tz = \"EST\"\n",
    "  )\n",
    "  sunTimes <- as.POSIXct(unlist(t(sunTimes[4:7])))  \n",
    "  dayPhaseIdx <- findInterval(c.df$dateTime, sunTimes) + 1\n",
    "  c.df$phaseOfDay <- as.character(phaseNames[dayPhaseIdx])\n",
    "  rownames(c.df) <- NULL\n",
    "  return(c.df)\n",
    "}))"
   ]
  },
  {
   "cell_type": "code",
   "execution_count": 102,
   "metadata": {
    "scrolled": true
   },
   "outputs": [
    {
     "data": {
      "text/html": [
       "<table>\n",
       "<thead><tr><th></th><th scope=col>DATE</th><th scope=col>TIME</th><th scope=col>BOROUGH</th><th scope=col>dateTime</th><th scope=col>phaseOfDay</th></tr></thead>\n",
       "<tbody>\n",
       "\t<tr><th scope=row>2018-01-01.1</th><td>2018-01-01         </td><td>17:00              </td><td>BRONX              </td><td>2018-01-01 17:00:00</td><td>dusk               </td></tr>\n",
       "\t<tr><th scope=row>2018-01-01.2</th><td>2018-01-01         </td><td>0:00               </td><td>BRONX              </td><td>2018-01-01 00:00:00</td><td>night              </td></tr>\n",
       "\t<tr><th scope=row>2018-01-01.3</th><td>2018-01-01         </td><td>0:00               </td><td>BROOKLYN           </td><td>2018-01-01 00:00:00</td><td>night              </td></tr>\n",
       "\t<tr><th scope=row>2018-01-01.4</th><td>2018-01-01         </td><td>0:00               </td><td>BROOKLYN           </td><td>2018-01-01 00:00:00</td><td>night              </td></tr>\n",
       "\t<tr><th scope=row>2018-01-01.5</th><td>2018-01-01         </td><td>0:00               </td><td>BROOKLYN           </td><td>2018-01-01 00:00:00</td><td>night              </td></tr>\n",
       "\t<tr><th scope=row>2018-01-01.6</th><td>2018-01-01         </td><td>0:00               </td><td>QUEENS             </td><td>2018-01-01 00:00:00</td><td>night              </td></tr>\n",
       "</tbody>\n",
       "</table>\n"
      ],
      "text/latex": [
       "\\begin{tabular}{r|lllll}\n",
       "  & DATE & TIME & BOROUGH & dateTime & phaseOfDay\\\\\n",
       "\\hline\n",
       "\t2018-01-01.1 & 2018-01-01          & 17:00               & BRONX               & 2018-01-01 17:00:00 & dusk               \\\\\n",
       "\t2018-01-01.2 & 2018-01-01          & 0:00                & BRONX               & 2018-01-01 00:00:00 & night              \\\\\n",
       "\t2018-01-01.3 & 2018-01-01          & 0:00                & BROOKLYN            & 2018-01-01 00:00:00 & night              \\\\\n",
       "\t2018-01-01.4 & 2018-01-01          & 0:00                & BROOKLYN            & 2018-01-01 00:00:00 & night              \\\\\n",
       "\t2018-01-01.5 & 2018-01-01          & 0:00                & BROOKLYN            & 2018-01-01 00:00:00 & night              \\\\\n",
       "\t2018-01-01.6 & 2018-01-01          & 0:00                & QUEENS              & 2018-01-01 00:00:00 & night              \\\\\n",
       "\\end{tabular}\n"
      ],
      "text/markdown": [
       "\n",
       "| <!--/--> | DATE | TIME | BOROUGH | dateTime | phaseOfDay | \n",
       "|---|---|---|---|---|---|\n",
       "| 2018-01-01.1 | 2018-01-01          | 17:00               | BRONX               | 2018-01-01 17:00:00 | dusk                | \n",
       "| 2018-01-01.2 | 2018-01-01          | 0:00                | BRONX               | 2018-01-01 00:00:00 | night               | \n",
       "| 2018-01-01.3 | 2018-01-01          | 0:00                | BROOKLYN            | 2018-01-01 00:00:00 | night               | \n",
       "| 2018-01-01.4 | 2018-01-01          | 0:00                | BROOKLYN            | 2018-01-01 00:00:00 | night               | \n",
       "| 2018-01-01.5 | 2018-01-01          | 0:00                | BROOKLYN            | 2018-01-01 00:00:00 | night               | \n",
       "| 2018-01-01.6 | 2018-01-01          | 0:00                | QUEENS              | 2018-01-01 00:00:00 | night               | \n",
       "\n",
       "\n"
      ],
      "text/plain": [
       "             DATE       TIME  BOROUGH  dateTime            phaseOfDay\n",
       "2018-01-01.1 2018-01-01 17:00 BRONX    2018-01-01 17:00:00 dusk      \n",
       "2018-01-01.2 2018-01-01 0:00  BRONX    2018-01-01 00:00:00 night     \n",
       "2018-01-01.3 2018-01-01 0:00  BROOKLYN 2018-01-01 00:00:00 night     \n",
       "2018-01-01.4 2018-01-01 0:00  BROOKLYN 2018-01-01 00:00:00 night     \n",
       "2018-01-01.5 2018-01-01 0:00  BROOKLYN 2018-01-01 00:00:00 night     \n",
       "2018-01-01.6 2018-01-01 0:00  QUEENS   2018-01-01 00:00:00 night     "
      ]
     },
     "metadata": {},
     "output_type": "display_data"
    },
    {
     "data": {
      "text/html": [
       "<table>\n",
       "<thead><tr><th></th><th scope=col>DATE</th><th scope=col>TIME</th><th scope=col>BOROUGH</th><th scope=col>dateTime</th><th scope=col>phaseOfDay</th></tr></thead>\n",
       "<tbody>\n",
       "\t<tr><th scope=row>2018-12-31.384</th><td>2018-12-31         </td><td>9:21               </td><td>BROOKLYN           </td><td>2018-12-31 09:21:00</td><td>daytime            </td></tr>\n",
       "\t<tr><th scope=row>2018-12-31.385</th><td>2018-12-31         </td><td>9:30               </td><td>BRONX              </td><td>2018-12-31 09:30:00</td><td>daytime            </td></tr>\n",
       "\t<tr><th scope=row>2018-12-31.386</th><td>2018-12-31         </td><td>9:30               </td><td>QUEENS             </td><td>2018-12-31 09:30:00</td><td>daytime            </td></tr>\n",
       "\t<tr><th scope=row>2018-12-31.387</th><td>2018-12-31         </td><td>9:30               </td><td>QUEENS             </td><td>2018-12-31 09:30:00</td><td>daytime            </td></tr>\n",
       "\t<tr><th scope=row>2018-12-31.388</th><td>2018-12-31         </td><td>9:32               </td><td>QUEENS             </td><td>2018-12-31 09:32:00</td><td>daytime            </td></tr>\n",
       "\t<tr><th scope=row>2018-12-31.389</th><td>2018-12-31         </td><td>9:35               </td><td>BRONX              </td><td>2018-12-31 09:35:00</td><td>daytime            </td></tr>\n",
       "</tbody>\n",
       "</table>\n"
      ],
      "text/latex": [
       "\\begin{tabular}{r|lllll}\n",
       "  & DATE & TIME & BOROUGH & dateTime & phaseOfDay\\\\\n",
       "\\hline\n",
       "\t2018-12-31.384 & 2018-12-31          & 9:21                & BROOKLYN            & 2018-12-31 09:21:00 & daytime            \\\\\n",
       "\t2018-12-31.385 & 2018-12-31          & 9:30                & BRONX               & 2018-12-31 09:30:00 & daytime            \\\\\n",
       "\t2018-12-31.386 & 2018-12-31          & 9:30                & QUEENS              & 2018-12-31 09:30:00 & daytime            \\\\\n",
       "\t2018-12-31.387 & 2018-12-31          & 9:30                & QUEENS              & 2018-12-31 09:30:00 & daytime            \\\\\n",
       "\t2018-12-31.388 & 2018-12-31          & 9:32                & QUEENS              & 2018-12-31 09:32:00 & daytime            \\\\\n",
       "\t2018-12-31.389 & 2018-12-31          & 9:35                & BRONX               & 2018-12-31 09:35:00 & daytime            \\\\\n",
       "\\end{tabular}\n"
      ],
      "text/markdown": [
       "\n",
       "| <!--/--> | DATE | TIME | BOROUGH | dateTime | phaseOfDay | \n",
       "|---|---|---|---|---|---|\n",
       "| 2018-12-31.384 | 2018-12-31          | 9:21                | BROOKLYN            | 2018-12-31 09:21:00 | daytime             | \n",
       "| 2018-12-31.385 | 2018-12-31          | 9:30                | BRONX               | 2018-12-31 09:30:00 | daytime             | \n",
       "| 2018-12-31.386 | 2018-12-31          | 9:30                | QUEENS              | 2018-12-31 09:30:00 | daytime             | \n",
       "| 2018-12-31.387 | 2018-12-31          | 9:30                | QUEENS              | 2018-12-31 09:30:00 | daytime             | \n",
       "| 2018-12-31.388 | 2018-12-31          | 9:32                | QUEENS              | 2018-12-31 09:32:00 | daytime             | \n",
       "| 2018-12-31.389 | 2018-12-31          | 9:35                | BRONX               | 2018-12-31 09:35:00 | daytime             | \n",
       "\n",
       "\n"
      ],
      "text/plain": [
       "               DATE       TIME BOROUGH  dateTime            phaseOfDay\n",
       "2018-12-31.384 2018-12-31 9:21 BROOKLYN 2018-12-31 09:21:00 daytime   \n",
       "2018-12-31.385 2018-12-31 9:30 BRONX    2018-12-31 09:30:00 daytime   \n",
       "2018-12-31.386 2018-12-31 9:30 QUEENS   2018-12-31 09:30:00 daytime   \n",
       "2018-12-31.387 2018-12-31 9:30 QUEENS   2018-12-31 09:30:00 daytime   \n",
       "2018-12-31.388 2018-12-31 9:32 QUEENS   2018-12-31 09:32:00 daytime   \n",
       "2018-12-31.389 2018-12-31 9:35 BRONX    2018-12-31 09:35:00 daytime   "
      ]
     },
     "metadata": {},
     "output_type": "display_data"
    },
    {
     "data": {
      "text/html": [
       "<table>\n",
       "<thead><tr><th></th><th scope=col>dateTime</th><th scope=col>phaseOfDay</th></tr></thead>\n",
       "<tbody>\n",
       "\t<tr><th scope=row>2018-02-27.297</th><td>2018-02-27 21:20:00</td><td>night              </td></tr>\n",
       "\t<tr><th scope=row>2018-06-13.12</th><td>2018-06-13 00:35:00</td><td>night              </td></tr>\n",
       "\t<tr><th scope=row>2018-01-26.98</th><td>2018-01-26 13:21:00</td><td>daytime            </td></tr>\n",
       "\t<tr><th scope=row>2018-04-27.334</th><td>2018-04-27 03:30:00</td><td>night              </td></tr>\n",
       "\t<tr><th scope=row>2018-05-30.239</th><td>2018-05-30 17:10:00</td><td>daytime            </td></tr>\n",
       "\t<tr><th scope=row>2018-09-05.404</th><td>2018-09-05 02:00:00</td><td>night              </td></tr>\n",
       "\t<tr><th scope=row>2018-03-09.468</th><td>2018-03-09 09:20:00</td><td>daytime            </td></tr>\n",
       "\t<tr><th scope=row>2018-09-29.211</th><td>2018-09-29 18:47:00</td><td>dusk               </td></tr>\n",
       "\t<tr><th scope=row>2018-12-11.188</th><td>2018-12-11 17:15:00</td><td>dusk               </td></tr>\n",
       "\t<tr><th scope=row>2018-02-17.166</th><td>2018-02-17 17:25:00</td><td>daytime            </td></tr>\n",
       "</tbody>\n",
       "</table>\n"
      ],
      "text/latex": [
       "\\begin{tabular}{r|ll}\n",
       "  & dateTime & phaseOfDay\\\\\n",
       "\\hline\n",
       "\t2018-02-27.297 & 2018-02-27 21:20:00 & night              \\\\\n",
       "\t2018-06-13.12 & 2018-06-13 00:35:00 & night              \\\\\n",
       "\t2018-01-26.98 & 2018-01-26 13:21:00 & daytime            \\\\\n",
       "\t2018-04-27.334 & 2018-04-27 03:30:00 & night              \\\\\n",
       "\t2018-05-30.239 & 2018-05-30 17:10:00 & daytime            \\\\\n",
       "\t2018-09-05.404 & 2018-09-05 02:00:00 & night              \\\\\n",
       "\t2018-03-09.468 & 2018-03-09 09:20:00 & daytime            \\\\\n",
       "\t2018-09-29.211 & 2018-09-29 18:47:00 & dusk               \\\\\n",
       "\t2018-12-11.188 & 2018-12-11 17:15:00 & dusk               \\\\\n",
       "\t2018-02-17.166 & 2018-02-17 17:25:00 & daytime            \\\\\n",
       "\\end{tabular}\n"
      ],
      "text/markdown": [
       "\n",
       "| <!--/--> | dateTime | phaseOfDay | \n",
       "|---|---|---|---|---|---|---|---|---|---|\n",
       "| 2018-02-27.297 | 2018-02-27 21:20:00 | night               | \n",
       "| 2018-06-13.12 | 2018-06-13 00:35:00 | night               | \n",
       "| 2018-01-26.98 | 2018-01-26 13:21:00 | daytime             | \n",
       "| 2018-04-27.334 | 2018-04-27 03:30:00 | night               | \n",
       "| 2018-05-30.239 | 2018-05-30 17:10:00 | daytime             | \n",
       "| 2018-09-05.404 | 2018-09-05 02:00:00 | night               | \n",
       "| 2018-03-09.468 | 2018-03-09 09:20:00 | daytime             | \n",
       "| 2018-09-29.211 | 2018-09-29 18:47:00 | dusk                | \n",
       "| 2018-12-11.188 | 2018-12-11 17:15:00 | dusk                | \n",
       "| 2018-02-17.166 | 2018-02-17 17:25:00 | daytime             | \n",
       "\n",
       "\n"
      ],
      "text/plain": [
       "               dateTime            phaseOfDay\n",
       "2018-02-27.297 2018-02-27 21:20:00 night     \n",
       "2018-06-13.12  2018-06-13 00:35:00 night     \n",
       "2018-01-26.98  2018-01-26 13:21:00 daytime   \n",
       "2018-04-27.334 2018-04-27 03:30:00 night     \n",
       "2018-05-30.239 2018-05-30 17:10:00 daytime   \n",
       "2018-09-05.404 2018-09-05 02:00:00 night     \n",
       "2018-03-09.468 2018-03-09 09:20:00 daytime   \n",
       "2018-09-29.211 2018-09-29 18:47:00 dusk      \n",
       "2018-12-11.188 2018-12-11 17:15:00 dusk      \n",
       "2018-02-17.166 2018-02-17 17:25:00 daytime   "
      ]
     },
     "metadata": {},
     "output_type": "display_data"
    }
   ],
   "source": [
    "#check the top/bottom of the data and some dateTime/phaseofDay pairs to make sure it works properly\n",
    "head(collisions.df[,c(\"DATE\", \"TIME\", \"BOROUGH\", \"dateTime\", \"phaseOfDay\")])\n",
    "tail(collisions.df[,c(\"DATE\", \"TIME\", \"BOROUGH\", \"dateTime\", \"phaseOfDay\")])\n",
    "collisions.df[sample(1:nrow(collisions.df), 10), c(\"dateTime\", \"phaseOfDay\")]"
   ]
  },
  {
   "cell_type": "code",
   "execution_count": 103,
   "metadata": {},
   "outputs": [],
   "source": [
    "phases <- c(\"nauticalDawn\", \"sunrise\", \"sunset\", \"night\")\n",
    "phaseNames <- c(\"night\", \"dawn\", \"daytime\", \"dusk\", \"night\")\n",
    "\n",
    "plot_data <- sapply(phaseNames[1:4], function(phase){\n",
    "  phaseIdx <- collisions.df$phaseOfDay == phase\n",
    "  casualtyProportion <- casualtyProp.f(collisions.df[phaseIdx,])\n",
    "  return(casualtyProportion)\n",
    "})"
   ]
  },
  {
   "cell_type": "code",
   "execution_count": 104,
   "metadata": {
    "scrolled": false
   },
   "outputs": [
    {
     "data": {
      "image/png": "[encoded data removed]",
      "text/plain": [
       "Plot with title \"Crashes Resulting in Injury or Death\""
      ]
     },
     "metadata": {},
     "output_type": "display_data"
    }
   ],
   "source": [
    "options(repr.plot.width=4, repr.plot.height=4)\n",
    "barplot(plot_data, col = c(\"gray20\", \"gray70\", \"Yellow2\", \"gray70\"), ylim = c(0,0.4))\n",
    "title(\"Crashes Resulting in Injury or Death\")\n",
    "mtext(\"Proportion\", cex = 1.1, side = 2, line = 2.1)"
   ]
  },
  {
   "cell_type": "markdown",
   "metadata": {},
   "source": [
    "Collisions at dawn or dusk have approximately the same casualty rate as nighttime collisions. Thus, it will be simpler to consider only two time categories of collisions. We can combine \"dawn\" collisions with \"night\" and \"dusk\" with \"daytime\", then use a Chi-square to test if the difference between the casualty rates is statistically significant."
   ]
  },
  {
   "cell_type": "markdown",
   "metadata": {},
   "source": [
    "#### Chi-square test for significance of day vs. night casualty rate"
   ]
  },
  {
   "cell_type": "code",
   "execution_count": 105,
   "metadata": {
    "scrolled": false
   },
   "outputs": [
    {
     "data": {
      "text/html": [
       "<table>\n",
       "<thead><tr><th></th><th scope=col>FALSE</th><th scope=col>TRUE</th></tr></thead>\n",
       "<tbody>\n",
       "\t<tr><th scope=row>day</th><td>93247</td><td>20151</td></tr>\n",
       "\t<tr><th scope=row>night</th><td>27748</td><td> 8001</td></tr>\n",
       "</tbody>\n",
       "</table>\n"
      ],
      "text/latex": [
       "\\begin{tabular}{r|ll}\n",
       "  & FALSE & TRUE\\\\\n",
       "\\hline\n",
       "\tday & 93247 & 20151\\\\\n",
       "\tnight & 27748 &  8001\\\\\n",
       "\\end{tabular}\n"
      ],
      "text/markdown": [
       "\n",
       "| <!--/--> | FALSE | TRUE | \n",
       "|---|---|\n",
       "| day | 93247 | 20151 | \n",
       "| night | 27748 |  8001 | \n",
       "\n",
       "\n"
      ],
      "text/plain": [
       "      FALSE TRUE \n",
       "day   93247 20151\n",
       "night 27748  8001"
      ]
     },
     "metadata": {},
     "output_type": "display_data"
    },
    {
     "data": {
      "text/plain": [
       "\n",
       "\tPearson's Chi-squared test with Yates' continuity correction\n",
       "\n",
       "data:  casualties_day_night.table\n",
       "X-squared = 377.08, df = 1, p-value < 2.2e-16\n"
      ]
     },
     "metadata": {},
     "output_type": "display_data"
    }
   ],
   "source": [
    "c_day.df <- collisions.df[collisions.df$phaseOfDay %in% c(\"daytime\", \"dusk\"),]\n",
    "c_night.df <- collisions.df[collisions.df$phaseOfDay %in% c(\"night\", \"dawn\"),]\n",
    "\n",
    "casualties_day_night.table <- rbind(\n",
    "    day = table(c_day.df$NUMBER.OF.PERSONS.INJURED | c_day.df$NUMBER.OF.PERSONS.KILLED),\n",
    "    night = table(c_night.df$NUMBER.OF.PERSONS.INJURED | c_night.df$NUMBER.OF.PERSONS.KILLED)\n",
    ")\n",
    "\n",
    "casualties_day_night.table\n",
    "chisq.test(casualties_day_night.table)\n"
   ]
  },
  {
   "cell_type": "markdown",
   "metadata": {},
   "source": [
    "The difference in casualty rate between night and day is highly significant (p << 0.0001)"
   ]
  },
  {
   "cell_type": "markdown",
   "metadata": {},
   "source": [
    "### Proportion of accidents that result in injury or death by day of week"
   ]
  },
  {
   "cell_type": "code",
   "execution_count": 106,
   "metadata": {},
   "outputs": [],
   "source": [
    "collisions.df$dayOfWeek <- weekdays(collisions.df$DATE)\n",
    "dayNames <- c(\"Monday\", \"Tuesday\", \"Wednesday\", \"Thursday\", \"Friday\", \"Saturday\", \"Sunday\")\n",
    "boroughs <- c(\"ALL\", \"BRONX\", \"BROOKLYN\", \"MANHATTAN\", \"QUEENS\", \"STATEN ISLAND\")\n",
    "collisions.df$dayOfWeek <- weekdays(collisions.df$DATE)\n",
    "dayNames <- c(\"Monday\", \"Tuesday\", \"Wednesday\", \"Thursday\", \"Friday\", \"Saturday\", \"Sunday\")\n",
    "boroughs <- c(\"ALL\", \"BRONX\", \"BROOKLYN\", \"MANHATTAN\", \"QUEENS\", \"STATEN ISLAND\")\n",
    "\n",
    "casualtyRates_byBorough_byDay <- sapply(boroughs, function(borough){\n",
    "  sapply(dayNames, function(dayName){\n",
    "    ifelse(\n",
    "      borough == \"ALL\",\n",
    "      casualtyProp.f(collisions.df[\n",
    "        collisions.df$dayOfWeek == dayName &\n",
    "        !is.na(collisions.df$BOROUGH),]),\n",
    "      casualtyProp.f(collisions.df[\n",
    "        collisions.df$BOROUGH == borough &\n",
    "        collisions.df$dayOfWeek == dayName &\n",
    "        !is.na(collisions.df$BOROUGH),],\n",
    "        type = 'total'\n",
    "      )\n",
    "    )\n",
    "  })\n",
    "})"
   ]
  },
  {
   "cell_type": "code",
   "execution_count": 107,
   "metadata": {
    "scrolled": false
   },
   "outputs": [
    {
     "data": {
      "image/png": "[encoded data removed]",
      "text/plain": [
       "Plot with title \"Percentage of Crashes that Result in Injury or Death\""
      ]
     },
     "metadata": {},
     "output_type": "display_data"
    }
   ],
   "source": [
    "#plot the overall casualty rate by day of week in black, and assign a color for each borough\n",
    "lineColors <- c(\"black\", \"red\", \"orange\", \"blue\", \"green\", \"mediumorchid3\")\n",
    "\n",
    "options(repr.plot.width=8, repr.plot.height=6)\n",
    "par(cex.lab = 1.5) #this makes the axis labels larger\n",
    "matplot( #matplot plots a matrix as multiple lines, where each column is the y-values for each line\n",
    "  casualtyRates_byBorough_byDay[,2:6],\n",
    "  type = 'b', pch = 16, lty = 1, lwd = 2,\n",
    "  col = lineColors[2:6],\n",
    "  ylim = c(0, 0.30),\n",
    "  ylab = '',\n",
    "  axes = F\n",
    ")\n",
    "\n",
    "#plot the avg for all boroughs separately, with a bigger line\n",
    "lines(casualtyRates_byBorough_byDay[,1],\n",
    "      type = 'b', lwd = 4, pch = 16, lty = 1,\n",
    "      col = \"black\"\n",
    "    )\n",
    "\n",
    "#add axis labels, a legend, and a title\n",
    "mtext(c(\"Mon\", \"Tues\", \"Wed\", \"Thurs\", \"Fri\", \"Sat\", \"Sun\"),  side = 1, at = 1:7)\n",
    "axis(2, line = 0.5, at = c(0, .10, .20, 0.3), labels = c(0, 10, 20, 30),  cex.axis = 1.2)\n",
    "legend(1, 0.30, boroughs, text.col = lineColors, cex = 0.8, bty = 'n')\n",
    "title(\n",
    "  \"Percentage of Crashes that Result in Injury or Death\",\n",
    "  ylab = \"Casualty Incidence (Percent)\",\n",
    "  cex = 3\n",
    ")"
   ]
  },
  {
   "cell_type": "markdown",
   "metadata": {},
   "source": [
    "The first thing to note is that Manhattan and Staten Island have the lowest casualty incidence of all the boroughs, but the weekly trends of all the boroughs is roughly similar. The proportion of accidents that result in injury or death is slightly higher on weekends for all boroughs (black line). This effect is consistent for all boroughs except Queens (green line). Let's categorize crashes whether they occur on a weekday or weekend and use a Chi-square test to see if the difference in casualty proportion is significant."
   ]
  },
  {
   "cell_type": "markdown",
   "metadata": {},
   "source": [
    "#### Chi-square test for significance of weekday vs. weekend casualty rate"
   ]
  },
  {
   "cell_type": "code",
   "execution_count": 108,
   "metadata": {
    "scrolled": true
   },
   "outputs": [
    {
     "data": {
      "text/html": [
       "<table>\n",
       "<thead><tr><th></th><th scope=col>FALSE</th><th scope=col>TRUE</th></tr></thead>\n",
       "<tbody>\n",
       "\t<tr><th scope=row>wk</th><td>91561</td><td>21004</td></tr>\n",
       "\t<tr><th scope=row>wkend</th><td>29434</td><td> 7148</td></tr>\n",
       "</tbody>\n",
       "</table>\n"
      ],
      "text/latex": [
       "\\begin{tabular}{r|ll}\n",
       "  & FALSE & TRUE\\\\\n",
       "\\hline\n",
       "\twk & 91561 & 21004\\\\\n",
       "\twkend & 29434 &  7148\\\\\n",
       "\\end{tabular}\n"
      ],
      "text/markdown": [
       "\n",
       "| <!--/--> | FALSE | TRUE | \n",
       "|---|---|\n",
       "| wk | 91561 | 21004 | \n",
       "| wkend | 29434 |  7148 | \n",
       "\n",
       "\n"
      ],
      "text/plain": [
       "      FALSE TRUE \n",
       "wk    91561 21004\n",
       "wkend 29434  7148"
      ]
     },
     "metadata": {},
     "output_type": "display_data"
    },
    {
     "data": {
      "text/plain": [
       "\n",
       "\tPearson's Chi-squared test with Yates' continuity correction\n",
       "\n",
       "data:  chisq.table\n",
       "X-squared = 13.913, df = 1, p-value = 0.0001915\n"
      ]
     },
     "metadata": {},
     "output_type": "display_data"
    }
   ],
   "source": [
    "c1.df <- collisions.df[!collisions.df$dayOfWeek %in% c(\"Saturday\", \"Sunday\"),]\n",
    "c2.df <- collisions.df[collisions.df$dayOfWeek %in% c(\"Saturday\", \"Sunday\"),]\n",
    "\n",
    "chisq.table <- rbind(\n",
    "    wk = table(c1.df$NUMBER.OF.PERSONS.INJURED | c1.df$NUMBER.OF.PERSONS.KILLED),\n",
    "    wkend = table(c2.df$NUMBER.OF.PERSONS.INJURED | c2.df$NUMBER.OF.PERSONS.KILLED)\n",
    ")\n",
    "\n",
    "chisq.table\n",
    "chisq.test(chisq.table)"
   ]
  },
  {
   "cell_type": "markdown",
   "metadata": {},
   "source": [
    "In the table, the 'FALSE' column is the number of collisions with no casualties, the 'TRUE' column is the number of collisions in which there was a casualty. The Chi-square test tells us that the difference in proportion of crashes that result in injury or death on weekdays vs weekends is highly significant (p << 0.0001)"
   ]
  },
  {
   "cell_type": "markdown",
   "metadata": {},
   "source": [
    "# Question 2\n",
    "## In 2018, what effect did vehicle type have on injury and mortality rate given an accident?\n",
    "In asking this question, we want to know which specific types of vehicles involved in a collision have the highest likelihood of causing a death or injury."
   ]
  },
  {
   "cell_type": "code",
   "execution_count": 109,
   "metadata": {
    "scrolled": true
   },
   "outputs": [
    {
     "data": {
      "text/html": [
       "<table>\n",
       "<thead><tr><th></th><th scope=col>totalCollisions</th><th scope=col>unscathedCollisions</th><th scope=col>injuriousCollisions</th><th scope=col>deadlyCollisions</th><th scope=col>totalInj</th><th scope=col>totalDead</th><th scope=col>motoristInj</th><th scope=col>motoristDead</th><th scope=col>cyclistInj</th><th scope=col>cyclistDead</th><th scope=col>pedInj</th><th scope=col>pedDead</th></tr></thead>\n",
       "<tbody>\n",
       "\t<tr><th scope=row>PASSENGER_VEHICLE</th><td>31281</td><td>26054</td><td> 5207</td><td>20   </td><td> 7255</td><td>21   </td><td> 5835</td><td>11   </td><td> 315 </td><td>0    </td><td>1105 </td><td>10   </td></tr>\n",
       "\t<tr><th scope=row>WAGON_OR_SUV</th><td>76292</td><td>62972</td><td>13249</td><td>71   </td><td>18472</td><td>72   </td><td>14433</td><td>28   </td><td>1092 </td><td>4    </td><td>2948 </td><td>39   </td></tr>\n",
       "\t<tr><th scope=row>TAXI_OR_LIMO</th><td>12518</td><td>10315</td><td> 2199</td><td> 4   </td><td> 2999</td><td> 4   </td><td> 2164</td><td> 1   </td><td> 297 </td><td>2    </td><td> 537 </td><td> 1   </td></tr>\n",
       "\t<tr><th scope=row>CONVERTIBLE</th><td>  234</td><td>  199</td><td>   35</td><td> 0   </td><td>   51</td><td> 0   </td><td>   48</td><td> 0   </td><td>   1 </td><td>0    </td><td>   2 </td><td> 0   </td></tr>\n",
       "\t<tr><th scope=row>PICKUP_OR_VAN</th><td>11152</td><td> 9772</td><td> 1369</td><td>11   </td><td> 1817</td><td>11   </td><td> 1439</td><td> 5   </td><td>  88 </td><td>0    </td><td> 288 </td><td> 6   </td></tr>\n",
       "\t<tr><th scope=row>AMBULANCE</th><td>  739</td><td>  651</td><td>   88</td><td> 0   </td><td>  146</td><td> 0   </td><td>  134</td><td> 0   </td><td>   4 </td><td>0    </td><td>   8 </td><td> 0   </td></tr>\n",
       "\t<tr><th scope=row>BICYCLE</th><td> 4418</td><td>  910</td><td> 3501</td><td> 7   </td><td> 3611</td><td> 7   </td><td>   61</td><td> 1   </td><td>3374 </td><td>6    </td><td> 176 </td><td> 0   </td></tr>\n",
       "\t<tr><th scope=row>SCOOTER</th><td>   35</td><td>   16</td><td>   19</td><td> 0   </td><td>   19</td><td> 0   </td><td>   13</td><td> 0   </td><td>   0 </td><td>0    </td><td>   6 </td><td> 0   </td></tr>\n",
       "\t<tr><th scope=row>PEDICAB</th><td>   31</td><td>   19</td><td>   12</td><td> 0   </td><td>   13</td><td> 0   </td><td>    0</td><td> 0   </td><td>  13 </td><td>0    </td><td>   0 </td><td> 0   </td></tr>\n",
       "\t<tr><th scope=row>PERSONAL_ELECTRIC</th><td>   51</td><td>   14</td><td>   36</td><td> 1   </td><td>   38</td><td> 1   </td><td>   29</td><td> 1   </td><td>   2 </td><td>0    </td><td>   7 </td><td> 0   </td></tr>\n",
       "\t<tr><th scope=row>MEDIUM_TRUCK</th><td> 5133</td><td> 4730</td><td>  399</td><td> 4   </td><td>  526</td><td> 4   </td><td>  446</td><td> 3   </td><td>  29 </td><td>0    </td><td>  52 </td><td> 1   </td></tr>\n",
       "\t<tr><th scope=row>BUS</th><td> 4801</td><td> 4166</td><td>  629</td><td> 6   </td><td> 1011</td><td> 6   </td><td>  850</td><td> 2   </td><td>  35 </td><td>0    </td><td> 126 </td><td> 4   </td></tr>\n",
       "\t<tr><th scope=row>COMMERCIAL</th><td>   32</td><td>   29</td><td>    3</td><td> 0   </td><td>    4</td><td> 0   </td><td>    4</td><td> 0   </td><td>   0 </td><td>0    </td><td>   0 </td><td> 0   </td></tr>\n",
       "\t<tr><th scope=row>LARGE_TRUCK</th><td> 1687</td><td> 1557</td><td>  129</td><td> 1   </td><td>  174</td><td> 1   </td><td>  155</td><td> 0   </td><td>   5 </td><td>0    </td><td>  14 </td><td> 1   </td></tr>\n",
       "\t<tr><th scope=row>CONSTRUCTION_VEHICLE</th><td>  984</td><td>  854</td><td>  128</td><td> 2   </td><td>  165</td><td> 2   </td><td>  139</td><td> 1   </td><td>   7 </td><td>0    </td><td>  19 </td><td> 1   </td></tr>\n",
       "\t<tr><th scope=row>MOTOR_BIKE</th><td> 1626</td><td>  784</td><td>  822</td><td>20   </td><td>  922</td><td>20   </td><td>  847</td><td>20   </td><td>  14 </td><td>0    </td><td>  61 </td><td> 0   </td></tr>\n",
       "\t<tr><th scope=row>FIRE_TRUCK</th><td>  177</td><td>  162</td><td>   15</td><td> 0   </td><td>   21</td><td> 0   </td><td>   17</td><td> 0   </td><td>   1 </td><td>0    </td><td>   3 </td><td> 0   </td></tr>\n",
       "\t<tr><th scope=row>GARBAGE_TRUCK</th><td>  386</td><td>  341</td><td>   44</td><td> 1   </td><td>   53</td><td> 1   </td><td>   44</td><td> 0   </td><td>   4 </td><td>0    </td><td>   5 </td><td> 1   </td></tr>\n",
       "</tbody>\n",
       "</table>\n"
      ],
      "text/latex": [
       "\\begin{tabular}{r|llllllllllll}\n",
       "  & totalCollisions & unscathedCollisions & injuriousCollisions & deadlyCollisions & totalInj & totalDead & motoristInj & motoristDead & cyclistInj & cyclistDead & pedInj & pedDead\\\\\n",
       "\\hline\n",
       "\tPASSENGER\\_VEHICLE & 31281 & 26054 &  5207 & 20    &  7255 & 21    &  5835 & 11    &  315  & 0     & 1105  & 10   \\\\\n",
       "\tWAGON\\_OR\\_SUV & 76292 & 62972 & 13249 & 71    & 18472 & 72    & 14433 & 28    & 1092  & 4     & 2948  & 39   \\\\\n",
       "\tTAXI\\_OR\\_LIMO & 12518 & 10315 &  2199 &  4    &  2999 &  4    &  2164 &  1    &  297  & 2     &  537  &  1   \\\\\n",
       "\tCONVERTIBLE &   234 &   199 &    35 &  0    &    51 &  0    &    48 &  0    &    1  & 0     &    2  &  0   \\\\\n",
       "\tPICKUP\\_OR\\_VAN & 11152 &  9772 &  1369 & 11    &  1817 & 11    &  1439 &  5    &   88  & 0     &  288  &  6   \\\\\n",
       "\tAMBULANCE &   739 &   651 &    88 &  0    &   146 &  0    &   134 &  0    &    4  & 0     &    8  &  0   \\\\\n",
       "\tBICYCLE &  4418 &   910 &  3501 &  7    &  3611 &  7    &    61 &  1    & 3374  & 6     &  176  &  0   \\\\\n",
       "\tSCOOTER &    35 &    16 &    19 &  0    &    19 &  0    &    13 &  0    &    0  & 0     &    6  &  0   \\\\\n",
       "\tPEDICAB &    31 &    19 &    12 &  0    &    13 &  0    &     0 &  0    &   13  & 0     &    0  &  0   \\\\\n",
       "\tPERSONAL\\_ELECTRIC &    51 &    14 &    36 &  1    &    38 &  1    &    29 &  1    &    2  & 0     &    7  &  0   \\\\\n",
       "\tMEDIUM\\_TRUCK &  5133 &  4730 &   399 &  4    &   526 &  4    &   446 &  3    &   29  & 0     &   52  &  1   \\\\\n",
       "\tBUS &  4801 &  4166 &   629 &  6    &  1011 &  6    &   850 &  2    &   35  & 0     &  126  &  4   \\\\\n",
       "\tCOMMERCIAL &    32 &    29 &     3 &  0    &     4 &  0    &     4 &  0    &    0  & 0     &    0  &  0   \\\\\n",
       "\tLARGE\\_TRUCK &  1687 &  1557 &   129 &  1    &   174 &  1    &   155 &  0    &    5  & 0     &   14  &  1   \\\\\n",
       "\tCONSTRUCTION\\_VEHICLE &   984 &   854 &   128 &  2    &   165 &  2    &   139 &  1    &    7  & 0     &   19  &  1   \\\\\n",
       "\tMOTOR\\_BIKE &  1626 &   784 &   822 & 20    &   922 & 20    &   847 & 20    &   14  & 0     &   61  &  0   \\\\\n",
       "\tFIRE\\_TRUCK &   177 &   162 &    15 &  0    &    21 &  0    &    17 &  0    &    1  & 0     &    3  &  0   \\\\\n",
       "\tGARBAGE\\_TRUCK &   386 &   341 &    44 &  1    &    53 &  1    &    44 &  0    &    4  & 0     &    5  &  1   \\\\\n",
       "\\end{tabular}\n"
      ],
      "text/markdown": [
       "\n",
       "| <!--/--> | totalCollisions | unscathedCollisions | injuriousCollisions | deadlyCollisions | totalInj | totalDead | motoristInj | motoristDead | cyclistInj | cyclistDead | pedInj | pedDead | \n",
       "|---|---|---|---|---|---|---|---|---|---|---|---|---|---|---|---|---|---|\n",
       "| PASSENGER_VEHICLE | 31281 | 26054 |  5207 | 20    |  7255 | 21    |  5835 | 11    |  315  | 0     | 1105  | 10    | \n",
       "| WAGON_OR_SUV | 76292 | 62972 | 13249 | 71    | 18472 | 72    | 14433 | 28    | 1092  | 4     | 2948  | 39    | \n",
       "| TAXI_OR_LIMO | 12518 | 10315 |  2199 |  4    |  2999 |  4    |  2164 |  1    |  297  | 2     |  537  |  1    | \n",
       "| CONVERTIBLE |   234 |   199 |    35 |  0    |    51 |  0    |    48 |  0    |    1  | 0     |    2  |  0    | \n",
       "| PICKUP_OR_VAN | 11152 |  9772 |  1369 | 11    |  1817 | 11    |  1439 |  5    |   88  | 0     |  288  |  6    | \n",
       "| AMBULANCE |   739 |   651 |    88 |  0    |   146 |  0    |   134 |  0    |    4  | 0     |    8  |  0    | \n",
       "| BICYCLE |  4418 |   910 |  3501 |  7    |  3611 |  7    |    61 |  1    | 3374  | 6     |  176  |  0    | \n",
       "| SCOOTER |    35 |    16 |    19 |  0    |    19 |  0    |    13 |  0    |    0  | 0     |    6  |  0    | \n",
       "| PEDICAB |    31 |    19 |    12 |  0    |    13 |  0    |     0 |  0    |   13  | 0     |    0  |  0    | \n",
       "| PERSONAL_ELECTRIC |    51 |    14 |    36 |  1    |    38 |  1    |    29 |  1    |    2  | 0     |    7  |  0    | \n",
       "| MEDIUM_TRUCK |  5133 |  4730 |   399 |  4    |   526 |  4    |   446 |  3    |   29  | 0     |   52  |  1    | \n",
       "| BUS |  4801 |  4166 |   629 |  6    |  1011 |  6    |   850 |  2    |   35  | 0     |  126  |  4    | \n",
       "| COMMERCIAL |    32 |    29 |     3 |  0    |     4 |  0    |     4 |  0    |    0  | 0     |    0  |  0    | \n",
       "| LARGE_TRUCK |  1687 |  1557 |   129 |  1    |   174 |  1    |   155 |  0    |    5  | 0     |   14  |  1    | \n",
       "| CONSTRUCTION_VEHICLE |   984 |   854 |   128 |  2    |   165 |  2    |   139 |  1    |    7  | 0     |   19  |  1    | \n",
       "| MOTOR_BIKE |  1626 |   784 |   822 | 20    |   922 | 20    |   847 | 20    |   14  | 0     |   61  |  0    | \n",
       "| FIRE_TRUCK |   177 |   162 |    15 |  0    |    21 |  0    |    17 |  0    |    1  | 0     |    3  |  0    | \n",
       "| GARBAGE_TRUCK |   386 |   341 |    44 |  1    |    53 |  1    |    44 |  0    |    4  | 0     |    5  |  1    | \n",
       "\n",
       "\n"
      ],
      "text/plain": [
       "                     totalCollisions unscathedCollisions injuriousCollisions\n",
       "PASSENGER_VEHICLE    31281           26054                5207              \n",
       "WAGON_OR_SUV         76292           62972               13249              \n",
       "TAXI_OR_LIMO         12518           10315                2199              \n",
       "CONVERTIBLE            234             199                  35              \n",
       "PICKUP_OR_VAN        11152            9772                1369              \n",
       "AMBULANCE              739             651                  88              \n",
       "BICYCLE               4418             910                3501              \n",
       "SCOOTER                 35              16                  19              \n",
       "PEDICAB                 31              19                  12              \n",
       "PERSONAL_ELECTRIC       51              14                  36              \n",
       "MEDIUM_TRUCK          5133            4730                 399              \n",
       "BUS                   4801            4166                 629              \n",
       "COMMERCIAL              32              29                   3              \n",
       "LARGE_TRUCK           1687            1557                 129              \n",
       "CONSTRUCTION_VEHICLE   984             854                 128              \n",
       "MOTOR_BIKE            1626             784                 822              \n",
       "FIRE_TRUCK             177             162                  15              \n",
       "GARBAGE_TRUCK          386             341                  44              \n",
       "                     deadlyCollisions totalInj totalDead motoristInj\n",
       "PASSENGER_VEHICLE    20                7255    21         5835      \n",
       "WAGON_OR_SUV         71               18472    72        14433      \n",
       "TAXI_OR_LIMO          4                2999     4         2164      \n",
       "CONVERTIBLE           0                  51     0           48      \n",
       "PICKUP_OR_VAN        11                1817    11         1439      \n",
       "AMBULANCE             0                 146     0          134      \n",
       "BICYCLE               7                3611     7           61      \n",
       "SCOOTER               0                  19     0           13      \n",
       "PEDICAB               0                  13     0            0      \n",
       "PERSONAL_ELECTRIC     1                  38     1           29      \n",
       "MEDIUM_TRUCK          4                 526     4          446      \n",
       "BUS                   6                1011     6          850      \n",
       "COMMERCIAL            0                   4     0            4      \n",
       "LARGE_TRUCK           1                 174     1          155      \n",
       "CONSTRUCTION_VEHICLE  2                 165     2          139      \n",
       "MOTOR_BIKE           20                 922    20          847      \n",
       "FIRE_TRUCK            0                  21     0           17      \n",
       "GARBAGE_TRUCK         1                  53     1           44      \n",
       "                     motoristDead cyclistInj cyclistDead pedInj pedDead\n",
       "PASSENGER_VEHICLE    11            315       0           1105   10     \n",
       "WAGON_OR_SUV         28           1092       4           2948   39     \n",
       "TAXI_OR_LIMO          1            297       2            537    1     \n",
       "CONVERTIBLE           0              1       0              2    0     \n",
       "PICKUP_OR_VAN         5             88       0            288    6     \n",
       "AMBULANCE             0              4       0              8    0     \n",
       "BICYCLE               1           3374       6            176    0     \n",
       "SCOOTER               0              0       0              6    0     \n",
       "PEDICAB               0             13       0              0    0     \n",
       "PERSONAL_ELECTRIC     1              2       0              7    0     \n",
       "MEDIUM_TRUCK          3             29       0             52    1     \n",
       "BUS                   2             35       0            126    4     \n",
       "COMMERCIAL            0              0       0              0    0     \n",
       "LARGE_TRUCK           0              5       0             14    1     \n",
       "CONSTRUCTION_VEHICLE  1              7       0             19    1     \n",
       "MOTOR_BIKE           20             14       0             61    0     \n",
       "FIRE_TRUCK            0              1       0              3    0     \n",
       "GARBAGE_TRUCK         0              4       0              5    1     "
      ]
     },
     "metadata": {},
     "output_type": "display_data"
    }
   ],
   "source": [
    "#This block of code tabulates deaths, injuries, and unscathed collisions for each vehicle type.\n",
    "\n",
    "vehTypeSummary.df <- as.data.frame(do.call(rbind, lapply(vehicle_categories, function(veh_cat){\n",
    "  #this will make an index for each column of vehicle type whether the vehicle is listed (T) or not (F)\n",
    "  idx <- apply(collisions.df[paste(\"VEHICLE.TYPE.CODE.\", 1:5, sep = '')], 2, function(vehTypeCol){\n",
    "    vehTypeCol %in% veh_cat\n",
    "  })\n",
    "  idx <- as.logical(apply(idx, 1, sum)) #this will sum accross the 5 columns to make 1 index of whether the vehicle type was involved in the collisions\n",
    "  #note, this method will undercount in cases where more than 1 of the same vehicle type is involved.\n",
    "  #For example, a collision between 2 sedans will still count as just 1 collisions involving sedan, the same as a collision involving just 1 sedan, or a sedan and a truck, etc.\n",
    "  totalCollisions <- sum(idx)\n",
    "  totalCollisionsUnscathed = sum(as.logical(\n",
    "    collisions.df$NUMBER.OF.PERSONS.INJURED == 0 &\n",
    "    collisions.df$NUMBER.OF.PERSONS.KILLED == 0 &\n",
    "    complete.cases(collisions.df[, c(\"NUMBER.OF.PERSONS.INJURED\", \"NUMBER.OF.PERSONS.KILLED\")])\n",
    "  )[idx])  \n",
    "  totalCollisionsInjurious = sum((\n",
    "    collisions.df$NUMBER.OF.PERSONS.INJURED > 0 &\n",
    "    collisions.df$NUMBER.OF.PERSONS.KILLED == 0 &\n",
    "    complete.cases(collisions.df[, c(\"NUMBER.OF.PERSONS.INJURED\", \"NUMBER.OF.PERSONS.KILLED\")])\n",
    "  )[idx])\n",
    "  totalCollisionsDeadly = sum((collisions.df$NUMBER.OF.PERSONS.KILLED > 0 & !is.na(collisions.df$NUMBER.OF.PERSONS.KILLED))[idx])\n",
    "  totalInjured <- sum(collisions.df$NUMBER.OF.PERSONS.INJURED[idx], na.rm = T)\n",
    "  totalDead <- sum(collisions.df$NUMBER.OF.PERSONS.KILLED[idx], na.rm = T)\n",
    "  motoristInjured <- sum(collisions.df$NUMBER.OF.MOTORIST.INJURED[idx], na.rm = T)\n",
    "  motoristDead <- sum(collisions.df$NUMBER.OF.MOTORIST.KILLED[idx], na.rm = T)\n",
    "  cyclistInjured <- sum(collisions.df$NUMBER.OF.CYCLIST.INJURED[idx], na.rm = T)\n",
    "  cyclistDead <- sum(collisions.df$NUMBER.OF.CYCLIST.KILLED[idx], na.rm = T)\n",
    "  pedInjured <- sum(collisions.df$NUMBER.OF.PEDESTRIANS.INJURED[idx], na.rm = T)\n",
    "  pedDead <- sum(collisions.df$NUMBER.OF.PEDESTRIANS.KILLED[idx], na.rm = T)\n",
    "  \n",
    "  return(c(\n",
    "    totalCollisions = totalCollisions,\n",
    "    unscathedCollisions = totalCollisionsUnscathed,\n",
    "    injuriousCollisions = totalCollisionsInjurious,\n",
    "    deadlyCollisions = totalCollisionsDeadly,\n",
    "    totalInj = totalInjured,\n",
    "    totalDead = totalDead,\n",
    "    motoristInj = motoristInjured,\n",
    "    motoristDead = motoristDead,\n",
    "    cyclistInj = cyclistInjured,\n",
    "    cyclistDead = cyclistDead,\n",
    "    pedInj = pedInjured,\n",
    "    pedDead = pedDead\n",
    "  ))\n",
    "})))\n",
    "vehTypeSummary.df"
   ]
  },
  {
   "cell_type": "code",
   "execution_count": 110,
   "metadata": {
    "scrolled": false
   },
   "outputs": [
    {
     "data": {
      "image/png": "[encoded data removed]",
      "text/plain": [
       "Plot with title \"Collision Severity by Vehicle Type\""
      ]
     },
     "metadata": {},
     "output_type": "display_data"
    }
   ],
   "source": [
    "xmax <- 1 #the maximum range of our x axis\n",
    "bp_data <- (vehTypeSummary.df$injuriousCollisions + vehTypeSummary.df$deadlyCollisions)/vehTypeSummary.df$totalCollisions\n",
    "ord <- order(bp_data)\n",
    "par(mai = c(1.5, 2, 0.5, 0.3))\n",
    "\n",
    "options(repr.plot.width=8, repr.plot.height=6)\n",
    "\n",
    "bp <- barplot(\n",
    "  bp_data[ord],\n",
    "  horiz = T,\n",
    "#  width = barWidths,\n",
    "  xlim = c(0, xmax),\n",
    "  xaxt = 'n',\n",
    "  xlab = \"Proportion of Collisions That Result In Injuries or Deaths\",\n",
    "  col = 'orange3'\n",
    ")\n",
    "par(cex = 0.8)\n",
    "axis(1, labels = c(0, '', xmax), at = c(0, xmax/2, xmax))\n",
    "axis(2, labels = rownames(vehTypeSummary.df)[ord], at = bp, las = '2')\n",
    "title(main = \"Collision Severity by Vehicle Type\")"
   ]
  },
  {
   "cell_type": "markdown",
   "metadata": {},
   "source": [
    "From this plot we can see that the overall pattern is that the smaller the vehicle, the more likely an injury or death will occur in an accident. Thus, the major factor that predicts whether a collision involving a particular vehicle type will result in injuries or death is the size of the vehicle, and thus the physical protection that the vehicle offers its occupants.\n",
    "\n",
    "The top 5 vehicle types with the highest incidence of injury or death in a collision are small, personal vehicles, such as bicycles, motorcycles, and personal electrically-powered vehicles, which include e-scooters, and e-bikes. This comes as no surprise, as these vehicles offer little protection from impacts, are less visible to motorists than large vehicles, and are capable of high speeds.\n",
    "\n",
    "Generally, four-wheeled motor vehicles have the lowest casualty incidence. Among four-wheeled vehicles, taxis and limos have the highest chance of causing 1 or more injuries or deaths. However, we must keep in mind that these vehicles, by their nature, typically carry more passengers than private passenger vehicles. Thus, when a taxi is involved in a collision, the chances that an injury or death will occur is multiplied by the number of passengers involved. This is also a reason why collisions involving busses have a higher incidence of casualties than trucks, even though they are similar in size. Additional data on the number of passengers in each vehicle involved would allow us to compute the safety factor of each vehicle type more accurately, but at first glance, considering that taxis and limos typically carry multiple people, the data suggest that these passengers are probably less likely to be killed or injured in an accident.\n",
    "\n",
    "The vehicle types with the lowest casualty rate are large and medium trucks and commercial vehicles. Commercial vehicles also tend to be large vans and trucks. One might imagine that these large vehicles are more likely to inflict greater harm on other vehicles and pedestrians when involved in an accident, while providing a great deal of protection to their occupants. Another factor to consider is that trucks typically move at slower speeds, and their drivers are professionals with a greater degree of training than those of passenger vehicles.\n",
    "\n",
    "Finally, it should be noted that pedicabs have an intermediate casualty rate, lower than completely unprotected vehicles such as bikes and scooters, but higher than fully enclosed vehicles such as cars and trucks. This is more evidence that the size and physical protection provided by the vehicle is the primary determinant of collision safety."
   ]
  },
  {
   "cell_type": "markdown",
   "metadata": {},
   "source": [
    "# Summary\n",
    "In this analysis we examined collisions data from the NYPD for 2018. \n",
    "\n",
    "First, we asked when are casualty rates highest and lowest for collisions in NYC. We found that the \"safest\" time to be involved in a collision is during the day, on a weekday. The \"least safe\" collisions, with the highest chance of injury or death occur during the night, particularly late at night or very early morning (3-4 am), and on weekends in particular. We looked at casualty rate by the phase of day (night/dawn/day/dusk) and found that casualty rates at dawn and dusk are not very different than at night, but daytime collisions have a significantly lower casualty rate.\n",
    "\n",
    "Additionally, when we looked at collision casualty rates across boroughs, we found that the safest boroughs to be involved in a collision are Manhattan and Staten Island.\n",
    "\n",
    "We next asked how vehicle types involved in a collisions affect the casualty rate. We found that collisions involving large vehicles such as trucks have a lower incidence of casualties. Passenger vehicles and SUVs have an intermediate casualty rate, while small personal vehicles such as bicycles, scooters, and motorcycles have the highest casualty rates given a collision. Therefore, we conclude that the size of the vehicle is the main factor in determining whether injuries or deaths will result from a collision. This is likely due the physical protection the vehicle provides its occupants, as well as the increased visibility of the vehicle to other motorists and pedestrians.\n",
    "\n",
    "### Recommendations\n",
    "Lawmakers, citizens and the NYPD should be aware that nights and weekends are the most dangerous time to be involved in a collision. Further research should be done to assess both where and why these accidents are more dangerous and assess how to best address them through traffic planning, traffic law enforcement, and public information campaigns.\n",
    "\n",
    "The NYPD and the public should be informed about the dangers of electric bicycles and scooters, especially given their recent surge in popularity throughout the city.\n"
   ]
  }
 ],
 "metadata": {
  "kernelspec": {
   "display_name": "R",
   "language": "R",
   "name": "ir"
  },
  "language_info": {
   "codemirror_mode": "r",
   "file_extension": ".r",
   "mimetype": "text/x-r-source",
   "name": "R",
   "pygments_lexer": "r",
   "version": "3.5.1"
  }
 },
 "nbformat": 4,
 "nbformat_minor": 2
}
